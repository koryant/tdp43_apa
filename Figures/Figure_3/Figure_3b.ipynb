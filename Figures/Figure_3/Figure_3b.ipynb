{
 "cells": [
  {
   "cell_type": "code",
   "execution_count": 2,
   "id": "e77ce553-4977-4b6a-b700-c18eb84c53af",
   "metadata": {},
   "outputs": [],
   "source": [
    "shhh <- suppressPackageStartupMessages\n",
    "shhh(library(data.table))\n",
    "shhh(library(ggplot2))\n",
    "shhh(library(stringr))\n",
    "shhh(library(ggpubr))\n",
    "shhh(library(transite))\n",
    "shhh(library(Biostrings))"
   ]
  },
  {
   "cell_type": "code",
   "execution_count": 3,
   "id": "de8c9948-fbb3-492e-97a3-eac469c9aea8",
   "metadata": {},
   "outputs": [],
   "source": [
    "shhh(library(BSgenome.Hsapiens.UCSC.hg38))\n",
    "Hsapiens = BSgenome.Hsapiens.UCSC.hg38\n",
    "shhh(library(Biostrings))\n",
    "shhh(library(matrixStats))\n",
    "shhh(library(ggrepel))\n",
    "shhh(library(patchwork))"
   ]
  },
  {
   "cell_type": "code",
   "execution_count": 4,
   "id": "bbf62395-367c-43e9-b6ab-5cb908dcb555",
   "metadata": {},
   "outputs": [],
   "source": [
    "library('Cairo')\n",
    "CairoFonts(\n",
    "regular=\"Sans:style=Light\",\n",
    "bold=\"Sans:style=Bold\",\n",
    "italic=\"Sans:style=Oblique\",\n",
    "bolditalic=\"Sans:style=BoldOblique\"\n",
    ")"
   ]
  },
  {
   "cell_type": "code",
   "execution_count": 5,
   "id": "a0718814-e206-4ead-a1bf-931df4b75d52",
   "metadata": {},
   "outputs": [],
   "source": [
    "kmer_analysis2 = function(bg_seq, fg_seq, kmer = 6, thres = 0.05, remove_homopolymer = F){\n",
    "    # background_kmer = generateKmers2(seq, kmer, Correction = T) \n",
    "    # foreground_kmer  = generateKmers2(seq[names(seq) %in% ID_list], kmer, Correction = T) \n",
    "    background_kmer = generate_kmers(bg_seq, kmer) \n",
    "    foreground_kmer  = generate_kmers(fg_seq, kmer) \n",
    "    Enrich <- \n",
    "    compute_kmer_enrichment(foreground_kmer,\n",
    "                            background_kmer,\n",
    "                            permutation = FALSE, \n",
    "                            chisq_p_value_threshold = 0.05,\n",
    "                            p_adjust_method = \"BH\")\n",
    "    dt <- as.data.table(Enrich)\n",
    "    dt[, kmer := names(foreground_kmer)]\n",
    "    dt <- dt[, c(6, 1:5)]\n",
    "    \n",
    "    # log transform enrichment and adjust.p.values\n",
    "    dt[, log2_enrichment := log2(as.numeric(enrichment))]\n",
    "    dt[, log_padj := -log10(as.numeric(adj_p_value))]\n",
    "  \n",
    "    # group kmer based on signficance\n",
    "    dt[, group := \"n\"] # not significant\n",
    "    dt[enrichment > 1 & adj_p_value <= thres, group := \"e\"] # enriched\n",
    "    dt[enrichment < 1 & adj_p_value <= thres, group := \"d\"] # depleted\n",
    "  \n",
    "    # order the table starting from the largest enrichment \n",
    "    dt <- dt[order(-enrichment)]\n",
    "\n",
    "    #remove kmer that has 5 consecutive same nts\n",
    "    homopolymer_list <- \"AAAAA|TTTTT|GGGGG|CCCCC|AAAA|TTTT|GGGG|CCCC|AAA|GGG|TTT\"\n",
    "    if (remove_homopolymer  == T){\n",
    "        dt = dt[!(str_detect(kmer, homopolymer_list))]\n",
    "    }\n",
    "    \n",
    "    return(dt)\n",
    "}"
   ]
  },
  {
   "cell_type": "code",
   "execution_count": 6,
   "id": "d3e7d8e3-0e3c-4cc7-af2b-496380f1c5bf",
   "metadata": {},
   "outputs": [],
   "source": [
    "volcano.plot2 <- function(kmer.enrichment, thres = 0.05, x_range = c(-1, 1), size1 = 8, size2 = 6, label_size = 1){\n",
    "  ggplot(kmer.enrichment,\n",
    "         aes(log2_enrichment,\n",
    "             log_padj,\n",
    "             color = group)) + \n",
    "  geom_point(size = 0.5, aes(alpha = log_padj), show.legend = F) +  #\n",
    "  scale_color_manual(\n",
    "                values = c(\n",
    "                    \"n\" = \"#8c8c8c\",\n",
    "                    \"e\" = \"#440154FF\",\n",
    "                    \"d\" = \"#22A884FF\"),\n",
    "                breaks = c(\"e\", \"d\", \"n\"),\n",
    "                labels = c(\"Enriched\", \"Depleted\", \"ns\"),\n",
    "                name = \"\") +\n",
    "  #scale_alpha_manual(values = c(0.4, 0.2, 0.4),guide = FALSE) +\n",
    "  geom_hline(yintercept = -log10(thres), linewidth = 0.2, linetype = \"dotted\") +\n",
    "  scale_x_continuous(name = expression(log[2](FC)), limits = x_range) +\n",
    "  ylab(expression(-log[10](q))) +\n",
    "  theme_bw(base_size = size1) +\n",
    "  geom_text_repel(aes(label = ifelse(text_label == \"e\", as.character(kmer),'')), \n",
    "                  nudge_x      = 0.1,\n",
    "                  nudge_y      = 0.5,\n",
    "#                 direction    = \"y\",\n",
    "#                 hjust        = 0,\n",
    "#                 vjust        = 0.1,\n",
    "                  segment.size = 0.05,\n",
    "                  size = label_size, \n",
    "                  show.legend = F,\n",
    "                  max.overlaps = Inf) +\n",
    "  geom_text_repel(aes(label = ifelse(text_label == \"d\", as.character(kmer),'')),\n",
    "                  nudge_x      = -0.1,\n",
    "                  nudge_y      = 0.5,\n",
    "#                   direction    = \"y\",\n",
    "#                   hjust        = 0,\n",
    "#                   vjust        = 0.2,\n",
    "                    segment.size = 0.05,\n",
    "                    size         = label_size,\n",
    "                    show.legend = F,\n",
    "                    max.overlaps = Inf) +\n",
    "  theme(\n",
    "    panel.grid.major = element_blank(),\n",
    "    panel.grid.minor = element_blank(),\n",
    "    panel.background = element_blank(),\n",
    "    axis.text.y = element_text(size = size2),\n",
    "    axis.text.x = element_text(size = size2),\n",
    "    legend.position = \"top\",\n",
    "    strip.background = element_rect(\"white\"),\n",
    "    strip.text = element_text(size = size2)) \n",
    "}"
   ]
  },
  {
   "cell_type": "code",
   "execution_count": 7,
   "id": "075b9b0b-f1ee-47f4-a61c-6b43f15696a2",
   "metadata": {},
   "outputs": [],
   "source": [
    "kmer_wrappper2 = function(fg_seq, bg_seq){\n",
    "    kmers = kmer_analysis2(bg_seq, fg_seq, kmer = 6, remove_homopolymer = T)\n",
    "    kmers[, kmer := str_replace_all(kmer, \"T\", \"U\")]\n",
    "    kmers[, group := \"n\"] # not significant\n",
    "    kmers[enrichment > 1 & adj_p_value <= 0.01 , group := \"e\"] # enriched # & !(str_detect(kmer, \"AAA\"))\n",
    "    kmers[enrichment < 1 & adj_p_value <= 0.01 , group := \"d\"] # depleted # & !(str_detect(kmer, \"AAA\"))\n",
    "    kmers[, text_label := \"n\"]\n",
    "    kmers[group == \"e\" & adj_p_value <= sort(kmers[group == \"e\",adj_p_value])[min(nrow(kmers[group == \"e\"]), 10)], text_label := \"e\"]\n",
    "    kmers[group == \"d\" & adj_p_value <= sort(kmers[group == \"d\",adj_p_value])[min(nrow(kmers[group == \"d\"]), 10)], text_label := \"d\"]\n",
    "    return(kmers)\n",
    "}"
   ]
  },
  {
   "cell_type": "markdown",
   "id": "0844b7ee-392c-4523-a272-a7e9622c7c18",
   "metadata": {},
   "source": [
    "## Load polyA sites"
   ]
  },
  {
   "cell_type": "code",
   "execution_count": 8,
   "id": "ca235740-b5d6-4026-a1a4-db9ca605661a",
   "metadata": {},
   "outputs": [],
   "source": [
    "apa = fread(\"Fig_3b_TDP43-7D-KD-APA_for-motif-analysis.csv\")"
   ]
  },
  {
   "cell_type": "code",
   "execution_count": 9,
   "id": "d8222725-1664-44b2-b7e3-147591f8741b",
   "metadata": {},
   "outputs": [
    {
     "data": {
      "text/html": [
       "<table class=\"dataframe\">\n",
       "<caption>A data.table: 6 × 12</caption>\n",
       "<thead>\n",
       "\t<tr><th scope=col>cluster_ID</th><th scope=col>gene_id</th><th scope=col>PAS_cluster_ID</th><th scope=col>PAS_ID</th><th scope=col>delta_usage</th><th scope=col>usage_direction</th><th scope=col>padj</th><th scope=col>lc_gene_padj</th><th scope=col>chr</th><th scope=col>PAS</th><th scope=col>strand</th><th scope=col>updated_polyA_site</th></tr>\n",
       "\t<tr><th scope=col>&lt;chr&gt;</th><th scope=col>&lt;chr&gt;</th><th scope=col>&lt;chr&gt;</th><th scope=col>&lt;chr&gt;</th><th scope=col>&lt;dbl&gt;</th><th scope=col>&lt;chr&gt;</th><th scope=col>&lt;dbl&gt;</th><th scope=col>&lt;dbl&gt;</th><th scope=col>&lt;chr&gt;</th><th scope=col>&lt;int&gt;</th><th scope=col>&lt;chr&gt;</th><th scope=col>&lt;int&gt;</th></tr>\n",
       "</thead>\n",
       "<tbody>\n",
       "\t<tr><td>ENSG00000000419.14@chr20:50934851:50934877:- </td><td>ENSG00000000419.14</td><td>chr20:50934851:50934877:- </td><td>chr20:50934872:-</td><td> 0.003131453</td><td>up  </td><td>2.305600e-01</td><td>0.498977376</td><td>chr20</td><td> 50934872</td><td>-</td><td> 50934870</td></tr>\n",
       "\t<tr><td>ENSG00000000419.14@chr20:50934941:50934959:- </td><td>ENSG00000000419.14</td><td>chr20:50934941:50934959:- </td><td>chr20:50934945:-</td><td>-0.003131453</td><td>down</td><td>2.305600e-01</td><td>0.498977376</td><td>chr20</td><td> 50934945</td><td>-</td><td> 50934945</td></tr>\n",
       "\t<tr><td>ENSG00000000457.14@chr1:169849622:169849685:-</td><td>ENSG00000000457.14</td><td>chr1:169849622:169849685:-</td><td>chr1:169849631:-</td><td> 0.192683025</td><td>up  </td><td>5.558631e-05</td><td>0.021208938</td><td>chr1 </td><td>169849631</td><td>-</td><td>169849631</td></tr>\n",
       "\t<tr><td>ENSG00000000457.14@chr1:169853078:169853094:-</td><td>ENSG00000000457.14</td><td>chr1:169853078:169853094:-</td><td>chr1:169853090:-</td><td>-0.192683025</td><td>down</td><td>5.558631e-05</td><td>0.021208938</td><td>chr1 </td><td>169853090</td><td>-</td><td>169853089</td></tr>\n",
       "\t<tr><td>ENSG00000001036.14@chr6:143493951:143493962:-</td><td>ENSG00000001036.14</td><td>chr6:143493951:143493962:-</td><td>chr6:143493954:-</td><td> 0.239089445</td><td>up  </td><td>5.303030e-21</td><td>0.003237899</td><td>chr6 </td><td>143493954</td><td>-</td><td>143493954</td></tr>\n",
       "\t<tr><td>ENSG00000001036.14@chr6:143495476:143495491:-</td><td>ENSG00000001036.14</td><td>chr6:143495476:143495491:-</td><td>chr6:143495487:-</td><td>-0.239089445</td><td>down</td><td>4.827154e-28</td><td>0.003237899</td><td>chr6 </td><td>143495487</td><td>-</td><td>143495487</td></tr>\n",
       "</tbody>\n",
       "</table>\n"
      ],
      "text/latex": [
       "A data.table: 6 × 12\n",
       "\\begin{tabular}{llllllllllll}\n",
       " cluster\\_ID & gene\\_id & PAS\\_cluster\\_ID & PAS\\_ID & delta\\_usage & usage\\_direction & padj & lc\\_gene\\_padj & chr & PAS & strand & updated\\_polyA\\_site\\\\\n",
       " <chr> & <chr> & <chr> & <chr> & <dbl> & <chr> & <dbl> & <dbl> & <chr> & <int> & <chr> & <int>\\\\\n",
       "\\hline\n",
       "\t ENSG00000000419.14@chr20:50934851:50934877:-  & ENSG00000000419.14 & chr20:50934851:50934877:-  & chr20:50934872:- &  0.003131453 & up   & 2.305600e-01 & 0.498977376 & chr20 &  50934872 & - &  50934870\\\\\n",
       "\t ENSG00000000419.14@chr20:50934941:50934959:-  & ENSG00000000419.14 & chr20:50934941:50934959:-  & chr20:50934945:- & -0.003131453 & down & 2.305600e-01 & 0.498977376 & chr20 &  50934945 & - &  50934945\\\\\n",
       "\t ENSG00000000457.14@chr1:169849622:169849685:- & ENSG00000000457.14 & chr1:169849622:169849685:- & chr1:169849631:- &  0.192683025 & up   & 5.558631e-05 & 0.021208938 & chr1  & 169849631 & - & 169849631\\\\\n",
       "\t ENSG00000000457.14@chr1:169853078:169853094:- & ENSG00000000457.14 & chr1:169853078:169853094:- & chr1:169853090:- & -0.192683025 & down & 5.558631e-05 & 0.021208938 & chr1  & 169853090 & - & 169853089\\\\\n",
       "\t ENSG00000001036.14@chr6:143493951:143493962:- & ENSG00000001036.14 & chr6:143493951:143493962:- & chr6:143493954:- &  0.239089445 & up   & 5.303030e-21 & 0.003237899 & chr6  & 143493954 & - & 143493954\\\\\n",
       "\t ENSG00000001036.14@chr6:143495476:143495491:- & ENSG00000001036.14 & chr6:143495476:143495491:- & chr6:143495487:- & -0.239089445 & down & 4.827154e-28 & 0.003237899 & chr6  & 143495487 & - & 143495487\\\\\n",
       "\\end{tabular}\n"
      ],
      "text/markdown": [
       "\n",
       "A data.table: 6 × 12\n",
       "\n",
       "| cluster_ID &lt;chr&gt; | gene_id &lt;chr&gt; | PAS_cluster_ID &lt;chr&gt; | PAS_ID &lt;chr&gt; | delta_usage &lt;dbl&gt; | usage_direction &lt;chr&gt; | padj &lt;dbl&gt; | lc_gene_padj &lt;dbl&gt; | chr &lt;chr&gt; | PAS &lt;int&gt; | strand &lt;chr&gt; | updated_polyA_site &lt;int&gt; |\n",
       "|---|---|---|---|---|---|---|---|---|---|---|---|\n",
       "| ENSG00000000419.14@chr20:50934851:50934877:-  | ENSG00000000419.14 | chr20:50934851:50934877:-  | chr20:50934872:- |  0.003131453 | up   | 2.305600e-01 | 0.498977376 | chr20 |  50934872 | - |  50934870 |\n",
       "| ENSG00000000419.14@chr20:50934941:50934959:-  | ENSG00000000419.14 | chr20:50934941:50934959:-  | chr20:50934945:- | -0.003131453 | down | 2.305600e-01 | 0.498977376 | chr20 |  50934945 | - |  50934945 |\n",
       "| ENSG00000000457.14@chr1:169849622:169849685:- | ENSG00000000457.14 | chr1:169849622:169849685:- | chr1:169849631:- |  0.192683025 | up   | 5.558631e-05 | 0.021208938 | chr1  | 169849631 | - | 169849631 |\n",
       "| ENSG00000000457.14@chr1:169853078:169853094:- | ENSG00000000457.14 | chr1:169853078:169853094:- | chr1:169853090:- | -0.192683025 | down | 5.558631e-05 | 0.021208938 | chr1  | 169853090 | - | 169853089 |\n",
       "| ENSG00000001036.14@chr6:143493951:143493962:- | ENSG00000001036.14 | chr6:143493951:143493962:- | chr6:143493954:- |  0.239089445 | up   | 5.303030e-21 | 0.003237899 | chr6  | 143493954 | - | 143493954 |\n",
       "| ENSG00000001036.14@chr6:143495476:143495491:- | ENSG00000001036.14 | chr6:143495476:143495491:- | chr6:143495487:- | -0.239089445 | down | 4.827154e-28 | 0.003237899 | chr6  | 143495487 | - | 143495487 |\n",
       "\n"
      ],
      "text/plain": [
       "  cluster_ID                                    gene_id           \n",
       "1 ENSG00000000419.14@chr20:50934851:50934877:-  ENSG00000000419.14\n",
       "2 ENSG00000000419.14@chr20:50934941:50934959:-  ENSG00000000419.14\n",
       "3 ENSG00000000457.14@chr1:169849622:169849685:- ENSG00000000457.14\n",
       "4 ENSG00000000457.14@chr1:169853078:169853094:- ENSG00000000457.14\n",
       "5 ENSG00000001036.14@chr6:143493951:143493962:- ENSG00000001036.14\n",
       "6 ENSG00000001036.14@chr6:143495476:143495491:- ENSG00000001036.14\n",
       "  PAS_cluster_ID             PAS_ID           delta_usage  usage_direction\n",
       "1 chr20:50934851:50934877:-  chr20:50934872:-  0.003131453 up             \n",
       "2 chr20:50934941:50934959:-  chr20:50934945:- -0.003131453 down           \n",
       "3 chr1:169849622:169849685:- chr1:169849631:-  0.192683025 up             \n",
       "4 chr1:169853078:169853094:- chr1:169853090:- -0.192683025 down           \n",
       "5 chr6:143493951:143493962:- chr6:143493954:-  0.239089445 up             \n",
       "6 chr6:143495476:143495491:- chr6:143495487:- -0.239089445 down           \n",
       "  padj         lc_gene_padj chr   PAS       strand updated_polyA_site\n",
       "1 2.305600e-01 0.498977376  chr20  50934872 -       50934870         \n",
       "2 2.305600e-01 0.498977376  chr20  50934945 -       50934945         \n",
       "3 5.558631e-05 0.021208938  chr1  169849631 -      169849631         \n",
       "4 5.558631e-05 0.021208938  chr1  169853090 -      169853089         \n",
       "5 5.303030e-21 0.003237899  chr6  143493954 -      143493954         \n",
       "6 4.827154e-28 0.003237899  chr6  143495487 -      143495487         "
      ]
     },
     "metadata": {},
     "output_type": "display_data"
    }
   ],
   "source": [
    "head(apa)"
   ]
  },
  {
   "cell_type": "markdown",
   "id": "1d4de502-5f4f-4ead-83f5-2ce9f263fd81",
   "metadata": {},
   "source": [
    "### Select polyA sites for comparision"
   ]
  },
  {
   "cell_type": "code",
   "execution_count": 22,
   "id": "ce170b27-720a-4ade-9e71-02e9adacece2",
   "metadata": {},
   "outputs": [],
   "source": [
    "Upregulated_PASIDs = apa[padj < 0.05 & delta_usage > 0.1, PAS_ID]\n",
    "Downregulated_PASIDs = apa[padj < 0.05 & delta_usage < -0.1, PAS_ID]\n",
    "\n"
   ]
  },
  {
   "cell_type": "code",
   "execution_count": 23,
   "id": "5508af3e-89cb-4d32-9a5a-9c9b86ec8e1e",
   "metadata": {},
   "outputs": [
    {
     "data": {
      "text/html": [
       "14147"
      ],
      "text/latex": [
       "14147"
      ],
      "text/markdown": [
       "14147"
      ],
      "text/plain": [
       "[1] 14147"
      ]
     },
     "metadata": {},
     "output_type": "display_data"
    },
    {
     "data": {
      "text/html": [
       "14147"
      ],
      "text/latex": [
       "14147"
      ],
      "text/markdown": [
       "14147"
      ],
      "text/plain": [
       "[1] 14147"
      ]
     },
     "metadata": {},
     "output_type": "display_data"
    },
    {
     "data": {
      "text/html": [
       "2433"
      ],
      "text/latex": [
       "2433"
      ],
      "text/markdown": [
       "2433"
      ],
      "text/plain": [
       "[1] 2433"
      ]
     },
     "metadata": {},
     "output_type": "display_data"
    },
    {
     "data": {
      "text/html": [
       "2455"
      ],
      "text/latex": [
       "2455"
      ],
      "text/markdown": [
       "2455"
      ],
      "text/plain": [
       "[1] 2455"
      ]
     },
     "metadata": {},
     "output_type": "display_data"
    }
   ],
   "source": [
    "length(Upregulated_PASIDs)\n",
    "length(Downregulated_PASIDs)"
   ]
  },
  {
   "cell_type": "markdown",
   "id": "f4f845e3-fb11-44d9-b51f-29e52f23b04a",
   "metadata": {},
   "source": [
    "## Sequence features downstream of the PAS [10, 50]"
   ]
  },
  {
   "cell_type": "markdown",
   "id": "359157da-2e68-4695-aff0-351693b008d9",
   "metadata": {},
   "source": [
    "UG rich motif in DSE is located +11-+33 downstream of the polyA site"
   ]
  },
  {
   "cell_type": "code",
   "execution_count": 40,
   "id": "36e7cb22-9846-48b4-9790-864a455a42fe",
   "metadata": {},
   "outputs": [],
   "source": [
    "pas_ds50_dt = copy(apa[, .(PAS_ID, chr, PAS, strand)])\n",
    "pas_ds50_dt[, start := ifelse(strand == \"+\", PAS+10,  PAS-50)]\n",
    "pas_ds50_dt[, end := ifelse(strand == \"+\",   PAS+50, PAS-10)]"
   ]
  },
  {
   "cell_type": "code",
   "execution_count": 41,
   "id": "a33a85f1-8cb8-42f5-bfbe-fee2187ff919",
   "metadata": {},
   "outputs": [],
   "source": [
    "ds50_seq = getSeq(Hsapiens, \n",
    "                  pas_ds50_dt$chr, \n",
    "                  start   = pas_ds50_dt$start, \n",
    "                  end     = pas_ds50_dt$end, \n",
    "                  strand  = pas_ds50_dt$strand)\n",
    "names(ds50_seq) =  pas_ds50_dt$PAS_ID"
   ]
  },
  {
   "cell_type": "markdown",
   "id": "758ca926-d63a-4c25-a542-8865c7f5bda6",
   "metadata": {},
   "source": [
    "### kmer analysis"
   ]
  },
  {
   "cell_type": "code",
   "execution_count": 46,
   "id": "79875563-2e75-4f7c-99f6-a983c6d75a66",
   "metadata": {},
   "outputs": [
    {
     "name": "stdout",
     "output_type": "stream",
     "text": [
      "\n",
      "   e    n \n",
      "   2 3436 \n",
      "\n",
      "   n \n",
      "3438 \n"
     ]
    }
   ],
   "source": [
    "ds50_kmer_up_vs_dn = kmer_wrappper2(ds50_seq[names(ds50_seq) %in% Upregulated_PASIDs],\n",
    "                                    ds50_seq[names(ds50_seq) %in% Downregulated_PASIDs])"
   ]
  },
  {
   "cell_type": "markdown",
   "id": "6898243c-de92-41e1-b267-d2295dadee16",
   "metadata": {},
   "source": [
    "## Sequence features further downstream of the PAS [51, 100]"
   ]
  },
  {
   "cell_type": "code",
   "execution_count": 70,
   "id": "32fa8cd0-69d6-45bc-ba74-cfb7683e6d01",
   "metadata": {},
   "outputs": [],
   "source": [
    "pas_ds100_dt = copy(apa[, .(PAS_ID, chr, PAS, strand)])\n",
    "pas_ds100_dt[, start := ifelse(strand == \"+\", PAS+51,  PAS-100)]\n",
    "pas_ds100_dt[, end := ifelse(strand == \"+\",   PAS+100, PAS-51)]"
   ]
  },
  {
   "cell_type": "code",
   "execution_count": 71,
   "id": "68b0cddf-4e20-4458-bc0d-fa40f54e852a",
   "metadata": {},
   "outputs": [],
   "source": [
    "ds100_seq = getSeq(Hsapiens, \n",
    "                  pas_ds100_dt$chr, \n",
    "                  start   = pas_ds100_dt$start, \n",
    "                  end     = pas_ds100_dt$end, \n",
    "                  strand  = pas_ds100_dt$strand)\n",
    "names(ds100_seq) =  pas_ds100_dt$PAS_ID"
   ]
  },
  {
   "cell_type": "markdown",
   "id": "77160f9e-fbc2-49ff-ab74-e735ba1867d9",
   "metadata": {},
   "source": [
    "### kmer analysis"
   ]
  },
  {
   "cell_type": "code",
   "execution_count": 72,
   "id": "b95f7135-4bba-4da5-954d-ec639c28d98e",
   "metadata": {},
   "outputs": [
    {
     "name": "stdout",
     "output_type": "stream",
     "text": [
      "\n",
      "   d    n \n",
      "   1 3437 \n",
      "\n",
      "   e    n \n",
      "   2 3436 \n"
     ]
    }
   ],
   "source": [
    "ds100_up_vs_dn_kmer = kmer_wrappper2(ds100_seq[names(ds100_seq) %in% Upregulated_PASIDs],\n",
    "                                     ds100_seq[names(ds100_seq) %in% Downregulated_PASIDs])"
   ]
  },
  {
   "cell_type": "markdown",
   "id": "b8ca69ea-329f-4684-b4f9-0f274d9ac488",
   "metadata": {},
   "source": [
    "## Sequence features upstream of the PAS [-50, -10]"
   ]
  },
  {
   "cell_type": "code",
   "execution_count": 81,
   "id": "7631838a-182c-43ab-8eec-ffc530790cfb",
   "metadata": {},
   "outputs": [],
   "source": [
    "pas_us50_dt = copy(apa[, .(PAS_ID, chr, PAS, strand)])\n",
    "pas_us50_dt[, start := ifelse(strand == \"+\", PAS-50,  PAS+10)]\n",
    "pas_us50_dt[, end := ifelse(strand == \"+\",   PAS-10, PAS+50)]"
   ]
  },
  {
   "cell_type": "code",
   "execution_count": 82,
   "id": "1f672813-d1fa-4e08-8b7a-1e8f20dfdf72",
   "metadata": {},
   "outputs": [],
   "source": [
    "us50_seq = getSeq(Hsapiens, \n",
    "                  names   = pas_us50_dt$chr, \n",
    "                  start   = pas_us50_dt$start, \n",
    "                  end     = pas_us50_dt$end, \n",
    "                  strand  = pas_us50_dt$strand)\n",
    "names(us50_seq) =  pas_us50_dt$PAS_ID"
   ]
  },
  {
   "cell_type": "markdown",
   "id": "5cfd4bec-bb43-4cb0-9980-99da0f7b413a",
   "metadata": {},
   "source": [
    "### kmer analysis"
   ]
  },
  {
   "cell_type": "code",
   "execution_count": 86,
   "id": "dbec23b1-d8fe-4d8e-bb42-872738aa2169",
   "metadata": {},
   "outputs": [
    {
     "name": "stdout",
     "output_type": "stream",
     "text": [
      "\n",
      "   e    n \n",
      "   1 3437 \n",
      "\n",
      "   d    n \n",
      "   1 3437 \n"
     ]
    }
   ],
   "source": [
    "us50_up_vs_dn_kmer = kmer_wrappper2(us50_seq[names(us50_seq) %in% Upregulated_PASIDs],\n",
    "                                    us50_seq[names(us50_seq) %in% Downregulated_PASIDs])"
   ]
  },
  {
   "cell_type": "markdown",
   "id": "25056270-2db7-4e04-bc8c-fe4c554bd63e",
   "metadata": {},
   "source": [
    "## Sequence features further upstream of the PAS [-100, -50]"
   ]
  },
  {
   "cell_type": "code",
   "execution_count": 93,
   "id": "67c97eb7-b80a-4ef0-8bce-68d586f26871",
   "metadata": {},
   "outputs": [],
   "source": [
    "pas_us100_dt = copy(apa[, .(PAS_ID, chr, PAS, strand)])\n",
    "pas_us100_dt[, start := ifelse(strand == \"+\", PAS-100,  PAS+51)]\n",
    "pas_us100_dt[, end := ifelse(strand == \"+\",   PAS-51, PAS+100)]"
   ]
  },
  {
   "cell_type": "code",
   "execution_count": 94,
   "id": "1261554a-9ffb-4b58-913b-f0d1e178bba6",
   "metadata": {},
   "outputs": [],
   "source": [
    "us100_seq = getSeq(Hsapiens, \n",
    "                  names   = pas_us100_dt$chr, \n",
    "                  start   = pas_us100_dt$start, \n",
    "                  end     = pas_us100_dt$end, \n",
    "                  strand  = pas_us100_dt$strand)\n",
    "names(us100_seq) =  pas_us100_dt$PAS_ID"
   ]
  },
  {
   "cell_type": "markdown",
   "id": "c9bbd1ad-1734-44c1-bb0b-b4f28e244201",
   "metadata": {},
   "source": [
    "### kmer analysis"
   ]
  },
  {
   "cell_type": "code",
   "execution_count": 97,
   "id": "d4dca190-9444-4e4e-bed7-eb604c34ceba",
   "metadata": {},
   "outputs": [
    {
     "name": "stdout",
     "output_type": "stream",
     "text": [
      "\n",
      "   n \n",
      "3438 \n",
      "\n",
      "   d    e    n \n",
      "   1    3 3434 \n"
     ]
    }
   ],
   "source": [
    "us100_up_vs_dn_kmer = kmer_wrappper2(us100_seq[names(us100_seq) %in% Upregulated_PASIDs],\n",
    "                                     us100_seq[names(us100_seq) %in% Downregulated_PASIDs] \n",
    "                                     )"
   ]
  },
  {
   "cell_type": "markdown",
   "id": "34f8572d-d873-43c3-ba28-8d7aac80d127",
   "metadata": {},
   "source": [
    "## combined plots for fig. 2h"
   ]
  },
  {
   "cell_type": "code",
   "execution_count": 123,
   "id": "a74badf0-b006-419f-b3d4-eafc22031278",
   "metadata": {},
   "outputs": [],
   "source": [
    "us100_kmers_up_vs_dn_plot = volcano.plot2(na.omit(us100_up_vs_dn_kmer), \n",
    "                                        thres  = 0.05, \n",
    "                                        size1 = 6, \n",
    "                                        label_size = 1, \n",
    "                                        x_range = c(-4, 4))\n",
    "\n",
    "us50_kmers_up_vs_dn_plot = volcano.plot2(na.omit(us50_up_vs_dn_kmer), \n",
    "                                        thres  = 0.05, \n",
    "                                        size1 = 6, \n",
    "                                        label_size = 1, \n",
    "                                        x_range = c(-4, 4))\n",
    "\n",
    "ds50_kmers_up_vs_dn_plot = volcano.plot2(na.omit(ds50_kmer_up_vs_dn), \n",
    "                                        thres  = 0.05, \n",
    "                                        size1 = 6, \n",
    "                                        label_size = 1, \n",
    "                                        x_range = c(-4, 4))\n",
    "\n",
    "ds100_kmers_up_vs_dn_plot = volcano.plot2(na.omit(ds100_up_vs_dn_kmer), \n",
    "                                        thres  = 0.05, \n",
    "                                        size1 = 6, \n",
    "                                        label_size = 1, \n",
    "                                        x_range = c(-4, 4))"
   ]
  },
  {
   "cell_type": "code",
   "execution_count": 124,
   "id": "84586d66-e033-4675-9d9a-a209c357c3f9",
   "metadata": {},
   "outputs": [],
   "source": [
    "options(repr.plot.width=16, repr.plot.height=4)\n",
    "\n",
    "hexamer_plot = us100_kmers_up_vs_dn_plot + us50_kmers_up_vs_dn_plot + ds50_kmers_up_vs_dn_plot + ds100_kmers_up_vs_dn_plot + plot_layout(nrow = 1)"
   ]
  },
  {
   "cell_type": "code",
   "execution_count": 125,
   "id": "4ff5682a-3713-4429-9263-a394f8f6a8a1",
   "metadata": {},
   "outputs": [
    {
     "data": {
      "image/png": "[encoded data removed]",
      "text/plain": [
       "plot without title"
      ]
     },
     "metadata": {
      "image/png": {
       "height": 240,
       "width": 960
      }
     },
     "output_type": "display_data"
    }
   ],
   "source": [
    "hexamer_plot"
   ]
  },
  {
   "cell_type": "code",
   "execution_count": 126,
   "id": "edc56dd8-5b6d-46bd-8a34-130f62c5687b",
   "metadata": {},
   "outputs": [],
   "source": [
    "ggsave(hexamer_plot, filename = \"Revision_figures/fig_2e_hexamer_plot.pdf\", height = 1.5, width = 6, units = \"in\")"
   ]
  }
 ],
 "metadata": {
  "kernelspec": {
   "display_name": "R",
   "language": "R",
   "name": "ir"
  },
  "language_info": {
   "codemirror_mode": "r",
   "file_extension": ".r",
   "mimetype": "text/x-r-source",
   "name": "R",
   "pygments_lexer": "r",
   "version": "4.2.0"
  }
 },
 "nbformat": 4,
 "nbformat_minor": 5
}
