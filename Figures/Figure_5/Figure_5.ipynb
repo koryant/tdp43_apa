{
 "cells": [
  {
   "cell_type": "markdown",
   "id": "1e167adb-6e26-443c-97a8-40fba8a46438",
   "metadata": {},
   "source": [
    "# Figure 5, SFPQ"
   ]
  },
  {
   "cell_type": "code",
   "execution_count": 1,
   "id": "b2f74283-75b2-4866-afde-75398747031e",
   "metadata": {},
   "outputs": [
    {
     "name": "stderr",
     "output_type": "stream",
     "text": [
      "\n",
      "Attaching package: ‘ggpubr’\n",
      "\n",
      "\n",
      "The following object is masked from ‘package:tidyplots’:\n",
      "\n",
      "    gene_expression\n",
      "\n",
      "\n"
     ]
    }
   ],
   "source": [
    "library(data.table)\n",
    "library(ggplot2)\n",
    "library(stringr)\n",
    "library(tidyplots)\n",
    "library(ggpubr)\n",
    "library(patchwork)"
   ]
  },
  {
   "cell_type": "code",
   "execution_count": 2,
   "id": "8976a48c-6c99-4d7b-9111-a174287e0ac0",
   "metadata": {},
   "outputs": [],
   "source": [
    "library('Cairo')\n",
    "CairoFonts(\n",
    "regular=\"Sans:style=Light\",\n",
    "bold=\"Sans:style=Bold\",\n",
    "italic=\"Sans:style=Oblique\",\n",
    "bolditalic=\"Sans:style=BoldOblique\"\n",
    ")"
   ]
  },
  {
   "cell_type": "markdown",
   "id": "a1016a3a-cc39-47b4-8357-25b2cbdb29af",
   "metadata": {},
   "source": [
    "## Fig. 5b"
   ]
  },
  {
   "cell_type": "code",
   "execution_count": 3,
   "id": "aed8ea2e-7f79-4f2e-a4c3-63475e20a7db",
   "metadata": {},
   "outputs": [],
   "source": [
    "sfpq_11j = fread(\"Fig_5b_TDP43-7d-KD-11j_SFPQ-isoform_qRT-PCR-quantitation.csv\")"
   ]
  },
  {
   "cell_type": "code",
   "execution_count": 4,
   "id": "285880be-2010-4ad9-87a7-5ffb27fb9670",
   "metadata": {},
   "outputs": [
    {
     "data": {
      "text/html": [
       "<style>\n",
       ".list-inline {list-style: none; margin:0; padding: 0}\n",
       ".list-inline>li {display: inline-block}\n",
       ".list-inline>li:not(:last-child)::after {content: \"\\00b7\"; padding: 0 .5ex}\n",
       "</style>\n",
       "<ol class=list-inline><li>'TDP43_0.1uM'</li><li>'TDP43_DMSO'</li><li>'scr_0.1uM'</li><li>'scr_DMSO'</li></ol>\n"
      ],
      "text/latex": [
       "\\begin{enumerate*}\n",
       "\\item 'TDP43\\_0.1uM'\n",
       "\\item 'TDP43\\_DMSO'\n",
       "\\item 'scr\\_0.1uM'\n",
       "\\item 'scr\\_DMSO'\n",
       "\\end{enumerate*}\n"
      ],
      "text/markdown": [
       "1. 'TDP43_0.1uM'\n",
       "2. 'TDP43_DMSO'\n",
       "3. 'scr_0.1uM'\n",
       "4. 'scr_DMSO'\n",
       "\n",
       "\n"
      ],
      "text/plain": [
       "[1] \"TDP43_0.1uM\" \"TDP43_DMSO\"  \"scr_0.1uM\"   \"scr_DMSO\"   "
      ]
     },
     "metadata": {},
     "output_type": "display_data"
    }
   ],
   "source": [
    "unique(sfpq_11j$group)"
   ]
  },
  {
   "cell_type": "code",
   "execution_count": 5,
   "id": "ab7a265d-7875-4c6c-bcd3-c7486c446a32",
   "metadata": {},
   "outputs": [],
   "source": [
    "sfpq_11j$group = factor(sfpq_11j$group, levels = c(\"scr_DMSO\", \"scr_0.1uM\", \"TDP43_DMSO\", \"TDP43_0.1uM\"))"
   ]
  },
  {
   "cell_type": "code",
   "execution_count": 6,
   "id": "430a704a-3cd7-47b1-84b4-c4bc2df8a8b5",
   "metadata": {},
   "outputs": [],
   "source": [
    "scr_can_plot = ggplot(sfpq_11j, aes(group, normalized_SFPQ_canon_GAPDH2, color = group)) +\n",
    "    geom_jitter(width = 0.3, size = 0.2, show.legend = F, color = \"gray\") + \n",
    "    stat_summary(fun.data = \"mean_se\",\n",
    "                 geom = \"errorbar\",\n",
    "                 linewidth = 0.25,\n",
    "                 width = 0.3,\n",
    "                 show.legend = F) +\n",
    "    stat_summary(fun = mean,\n",
    "                 fun.min = mean,\n",
    "                 fun.max = mean,\n",
    "                 geom = \"errorbar\",\n",
    "                 linewidth = 0.25,\n",
    "                 width = 0.5,\n",
    "                 show.legend = F) +\n",
    "    stat_compare_means(comparisons = list(c(\"scr_DMSO\", \"scr_0.1uM\"), \n",
    "                                          c(\"TDP43_DMSO\", \"TDP43_0.1uM\"), \n",
    "                                          c(\"scr_DMSO\", \"TDP43_DMSO\")), \n",
    "                       label = \"p\", \n",
    "                       method = \"t.test\",\n",
    "                       size = 6/.pt, \n",
    "                       label.y = c(1.1, 1.1, 1.2)) +\n",
    "    scale_x_discrete(name = \"\", label = c(\"DMSO\", \"11j\", \"DMSO\", \"11j\")) +\n",
    "    scale_y_continuous(name = \"Normalized RNA level\", limits = c(0, 1.25), breaks = c(0, 0.5, 1.0)) +\n",
    "    scale_color_manual(values = c(\"black\",\"orange\", \"black\",\"orange\")) +\n",
    "    ggtitle(\"Canonical isoform\") +\n",
    "    theme_classic(base_size = 6)"
   ]
  },
  {
   "cell_type": "code",
   "execution_count": 7,
   "id": "335725ce-a11a-4435-8530-8b1ebd298f6c",
   "metadata": {},
   "outputs": [],
   "source": [
    "scr_alt_plot = ggplot(sfpq_11j, aes(group, normalized_SFPQ_alt_GAPDH2, color = group)) +\n",
    "    geom_jitter(width = 0.3, size = 0.2, show.legend = F, color = \"gray\") +   \n",
    "    stat_summary(fun.data = \"mean_se\",\n",
    "                 geom = \"errorbar\",\n",
    "                 linewidth = 0.25,\n",
    "                 width = 0.3,\n",
    "                 show.legend = F) +\n",
    "    stat_summary(fun = mean,\n",
    "                 fun.min = mean,\n",
    "                 fun.max = mean,\n",
    "                 geom = \"errorbar\",\n",
    "                 linewidth = 0.25,\n",
    "                 width = 0.5,\n",
    "                 show.legend = F) +\n",
    "\n",
    "    stat_compare_means(comparisons = list(c(\"scr_DMSO\", \"scr_0.1uM\"), \n",
    "                                          c(\"TDP43_DMSO\", \"TDP43_0.1uM\"), \n",
    "                                          c(\"scr_DMSO\", \"TDP43_DMSO\")), \n",
    "                     label = \"p\", \n",
    "                     method = \"t.test\",\n",
    "                     size = 6/.pt, \n",
    "                     label.y = c(7, 7, 8)) +\n",
    "    scale_x_discrete(name = \"\", label = c(\"DMSO\", \"11j\", \"DMSO\", \"11j\")) +\n",
    "    scale_y_continuous(name = NULL, limits = c(0, 8.5), breaks = c(0, 1, 3, 5, 7)) +\n",
    "    scale_color_manual(values = c(\"black\",\"orange\", \"black\",\"orange\")) +\n",
    "    ggtitle(\"Alternative isoform\") +\n",
    "    theme_classic(base_size = 6)"
   ]
  },
  {
   "cell_type": "code",
   "execution_count": 8,
   "id": "949fb882-43e5-40c9-9595-b221c77ef345",
   "metadata": {},
   "outputs": [],
   "source": [
    "fig_5b_plot = scr_can_plot + scr_alt_plot"
   ]
  },
  {
   "cell_type": "code",
   "execution_count": 9,
   "id": "8027cdca-db58-4414-b06b-3dbaae848e17",
   "metadata": {},
   "outputs": [
    {
     "data": {
      "image/png": "[encoded data removed]",
      "text/plain": [
       "plot without title"
      ]
     },
     "metadata": {
      "image/png": {
       "height": 420,
       "width": 420
      }
     },
     "output_type": "display_data"
    }
   ],
   "source": [
    "fig_5b_plot"
   ]
  },
  {
   "cell_type": "code",
   "execution_count": 10,
   "id": "1715d248-42b2-4535-a3e7-778e10b7acc7",
   "metadata": {},
   "outputs": [],
   "source": [
    "ggsave(fig_5b_plot, filename = \"fig_5b_11j_plot.pdf\", width = 2.5, height = 1.5, units = \"in\", dpi = 300)"
   ]
  },
  {
   "cell_type": "markdown",
   "id": "50ab8ae2-dd49-488a-ba07-4ef02383951e",
   "metadata": {},
   "source": [
    "## Fig. 5c, SFPQ WB"
   ]
  },
  {
   "cell_type": "code",
   "execution_count": 11,
   "id": "07e907de-f055-4391-a444-6e4ff5dbf811",
   "metadata": {},
   "outputs": [],
   "source": [
    "SFPQ_WB = fread(\"Fig_5c_TDP43-7d-KD_SFPQ-WB-quantitation.csv\")"
   ]
  },
  {
   "cell_type": "code",
   "execution_count": 13,
   "id": "82b19d81-f6ab-48ed-a663-6eb2fa492c9c",
   "metadata": {},
   "outputs": [
    {
     "name": "stderr",
     "output_type": "stream",
     "text": [
      "\u001b[32m✔\u001b[39m save_plot: saved to \u001b[34m\u001b[34mfig_5c_TDP43-7D-KD-SFPQ-WB-quantitation-plot.pdf\u001b[34m\u001b[39m\n",
      "\n"
     ]
    },
    {
     "data": {
      "image/png": "[encoded data removed]",
      "text/plain": [
       "plot without title"
      ]
     },
     "metadata": {
      "image/png": {
       "height": 420,
       "width": 420
      }
     },
     "output_type": "display_data"
    }
   ],
   "source": [
    "SFPQ_WB[target == \"SFPQ\"] |>\n",
    "    tidyplot(x = Sample, y = normalized_ratio, color = Sample) |>\n",
    "    add_data_points_jitter(jitter_width = 0.2, size = 0.5, color = \"gray\") |>\n",
    "    add_mean_dash(width = 0.5) |>\n",
    "    add_sem_errorbar(width = 0.25) |>\n",
    "    add_test_pvalue(hide_info = TRUE, \n",
    "                    method = \"t_test\",\n",
    "                    method.args = list(alternative = \"greater\"),\n",
    "                    ref.group = \"Control\", ) |>\n",
    "    adjust_colors(new_colors = c(\"black\", \"orange\")) |> \n",
    "    remove_x_axis_title() |>\n",
    "    adjust_y_axis(title = \"Normalized ratio\",\n",
    "                  limits = c(0, 1.3), breaks = c(0, 0.25, 0.5, 0.75, 1.0)) |>\n",
    "    remove_legend() |>\n",
    "    adjust_size(width = 1, height = 1, unit = \"in\") |>\n",
    "    adjust_font(fontsize = 6) |>\n",
    "    save_plot(\"fig_5c_TDP43-7D-KD-SFPQ-WB-quantitation-plot.pdf\", \n",
    "              view_plot = TRUE,\n",
    "              bg = \"transparent\",\n",
    "              dpi = 300)"
   ]
  },
  {
   "cell_type": "code",
   "execution_count": 14,
   "id": "c88fa185-187f-407d-b3c0-16896c57e4be",
   "metadata": {},
   "outputs": [
    {
     "name": "stderr",
     "output_type": "stream",
     "text": [
      "\u001b[32m✔\u001b[39m save_plot: saved to \u001b[34m\u001b[34mfig_5c_TDP43-7D-KD-TDP-43-WB-quantitation-plot.pdf\u001b[34m\u001b[39m\n",
      "\n"
     ]
    },
    {
     "data": {
      "image/png": "[encoded data removed]",
      "text/plain": [
       "plot without title"
      ]
     },
     "metadata": {
      "image/png": {
       "height": 420,
       "width": 420
      }
     },
     "output_type": "display_data"
    }
   ],
   "source": [
    "SFPQ_WB[target == \"TDP-43\"] |>\n",
    "    tidyplot(x = Sample, y = normalized_ratio, color = Sample) |>\n",
    "    add_data_points_jitter(jitter_width = 0.2, size = 0.5, color = \"gray\") |>\n",
    "    add_mean_dash(width = 0.5) |>\n",
    "    add_sem_errorbar(width = 0.25) |>\n",
    "    add_test_pvalue(hide_info = TRUE, \n",
    "                    method = \"t_test\",\n",
    "                    method.args = list(alternative = \"greater\"),\n",
    "                    ref.group = \"Control\", ) |>\n",
    "    adjust_colors(new_colors = c(\"black\", \"orange\")) |> \n",
    "    remove_x_axis_title() |>\n",
    "    adjust_y_axis(title = \"Normalized ratio\",\n",
    "                  limits = c(0, 1.3), breaks = c(0, 0.25, 0.5, 0.75, 1.0)) |>\n",
    "    remove_legend() |>\n",
    "    adjust_size(width = 1, height = 1, unit = \"in\") |>\n",
    "    adjust_font(fontsize = 6) |>\n",
    "    save_plot(\"fig_5c_TDP43-7D-KD-TDP-43-WB-quantitation-plot.pdf\", \n",
    "              view_plot = TRUE,\n",
    "              bg = \"transparent\",\n",
    "              dpi = 300)"
   ]
  },
  {
   "cell_type": "markdown",
   "id": "823b4cb4-68f2-468a-a225-7f843f3189d6",
   "metadata": {},
   "source": [
    "## Fig. 5d,e"
   ]
  },
  {
   "cell_type": "markdown",
   "id": "1274cd24-9ff1-46dc-9e9f-2e8fb51257b1",
   "metadata": {},
   "source": [
    ">From Vidhya (Petrucelli lab)"
   ]
  },
  {
   "cell_type": "code",
   "execution_count": 15,
   "id": "5664face-c4cd-480a-908c-22c2f5a05a76",
   "metadata": {},
   "outputs": [
    {
     "data": {
      "text/plain": [
       "R version 4.2.0 (2022-04-22)\n",
       "Platform: x86_64-pc-linux-gnu (64-bit)\n",
       "Running under: CentOS Linux 7 (Core)\n",
       "\n",
       "Matrix products: default\n",
       "BLAS/LAPACK: /share/software/user/open/openblas/0.3.10/lib/libopenblas_haswellp-r0.3.10.so\n",
       "\n",
       "locale:\n",
       " [1] LC_CTYPE=en_US.UTF-8       LC_NUMERIC=C              \n",
       " [3] LC_TIME=en_US.UTF-8        LC_COLLATE=en_US.UTF-8    \n",
       " [5] LC_MONETARY=en_US.UTF-8    LC_MESSAGES=en_US.UTF-8   \n",
       " [7] LC_PAPER=en_US.UTF-8       LC_NAME=C                 \n",
       " [9] LC_ADDRESS=C               LC_TELEPHONE=C            \n",
       "[11] LC_MEASUREMENT=en_US.UTF-8 LC_IDENTIFICATION=C       \n",
       "\n",
       "attached base packages:\n",
       "[1] stats     graphics  grDevices utils     datasets  methods   base     \n",
       "\n",
       "other attached packages:\n",
       "[1] Cairo_1.6-2       patchwork_1.2.0   ggpubr_0.6.0      tidyplots_0.2.2  \n",
       "[5] stringr_1.5.1     ggplot2_3.5.0     data.table_1.15.2\n",
       "\n",
       "loaded via a namespace (and not attached):\n",
       " [1] pillar_1.9.0      compiler_4.2.0    base64enc_0.1-3   tools_4.2.0      \n",
       " [5] getPass_0.2-4     digest_0.6.35     uuid_1.2-0        jsonlite_1.8.8   \n",
       " [9] evaluate_0.23     lifecycle_1.0.4   tibble_3.2.1      gtable_0.3.4     \n",
       "[13] pkgconfig_2.0.3   rlang_1.1.3       IRdisplay_1.1     cli_3.6.2        \n",
       "[17] IRkernel_1.3.2    fastmap_1.1.1     repr_1.1.6        withr_3.0.0      \n",
       "[21] dplyr_1.1.4       systemfonts_1.0.6 generics_0.1.3    vctrs_0.6.5      \n",
       "[25] grid_4.2.0        tidyselect_1.2.1  glue_1.7.0        R6_2.5.1         \n",
       "[29] textshaping_0.3.7 rstatix_0.7.2     fansi_1.0.6       carData_3.0-5    \n",
       "[33] pbdZMQ_0.3-11     farver_2.1.1      car_3.1-2         tidyr_1.3.1      \n",
       "[37] purrr_1.0.2       magrittr_2.0.3    backports_1.4.1   scales_1.3.0     \n",
       "[41] htmltools_0.5.7   abind_1.4-5       colorspace_2.1-0  ggsignif_0.6.4   \n",
       "[45] ragg_1.3.0        utf8_1.2.4        stringi_1.8.3     munsell_0.5.0    \n",
       "[49] broom_1.0.5       crayon_1.5.2     "
      ]
     },
     "metadata": {},
     "output_type": "display_data"
    }
   ],
   "source": [
    "sessionInfo()"
   ]
  }
 ],
 "metadata": {
  "kernelspec": {
   "display_name": "R",
   "language": "R",
   "name": "ir"
  },
  "language_info": {
   "codemirror_mode": "r",
   "file_extension": ".r",
   "mimetype": "text/x-r-source",
   "name": "R",
   "pygments_lexer": "r",
   "version": "4.2.0"
  }
 },
 "nbformat": 4,
 "nbformat_minor": 5
}
