{
 "cells": [
  {
   "cell_type": "markdown",
   "id": "1e167adb-6e26-443c-97a8-40fba8a46438",
   "metadata": {},
   "source": [
    "# Figure S3"
   ]
  },
  {
   "cell_type": "code",
   "execution_count": 1,
   "id": "b2f74283-75b2-4866-afde-75398747031e",
   "metadata": {},
   "outputs": [
    {
     "name": "stderr",
     "output_type": "stream",
     "text": [
      "\n",
      "Attaching package: ‘ggpubr’\n",
      "\n",
      "\n",
      "The following object is masked from ‘package:tidyplots’:\n",
      "\n",
      "    gene_expression\n",
      "\n",
      "\n"
     ]
    }
   ],
   "source": [
    "library(data.table)\n",
    "library(ggplot2)\n",
    "library(stringr)\n",
    "library(tidyplots)\n",
    "library(ggpubr)\n",
    "library(patchwork)"
   ]
  },
  {
   "cell_type": "code",
   "execution_count": 2,
   "id": "8976a48c-6c99-4d7b-9111-a174287e0ac0",
   "metadata": {},
   "outputs": [],
   "source": [
    "library('Cairo')\n",
    "CairoFonts(\n",
    "regular=\"Sans:style=Light\",\n",
    "bold=\"Sans:style=Bold\",\n",
    "italic=\"Sans:style=Oblique\",\n",
    "bolditalic=\"Sans:style=BoldOblique\"\n",
    ")"
   ]
  },
  {
   "cell_type": "markdown",
   "id": "5870a727-c4ae-4c90-95c4-12cf7b6c2743",
   "metadata": {},
   "source": [
    "## APA qPCR-PCR data"
   ]
  },
  {
   "cell_type": "code",
   "execution_count": 3,
   "id": "fd47a4fc-e84b-4783-918a-2c3e74f8b2e2",
   "metadata": {},
   "outputs": [],
   "source": [
    "apa_qpcr = fread(\"Fig_s3_apa_qRT-PCR_quantitation_combined.csv\")"
   ]
  },
  {
   "cell_type": "code",
   "execution_count": 4,
   "id": "880c237b-a831-448d-b526-977e81669378",
   "metadata": {},
   "outputs": [
    {
     "data": {
      "text/html": [
       "<style>\n",
       ".list-inline {list-style: none; margin:0; padding: 0}\n",
       ".list-inline>li {display: inline-block}\n",
       ".list-inline>li:not(:last-child)::after {content: \"\\00b7\"; padding: 0 .5ex}\n",
       "</style>\n",
       "<ol class=list-inline><li>'SFPQ_long_short'</li><li>'NEFL_long_short'</li><li>'ELP1_long_short'</li></ol>\n"
      ],
      "text/latex": [
       "\\begin{enumerate*}\n",
       "\\item 'SFPQ\\_long\\_short'\n",
       "\\item 'NEFL\\_long\\_short'\n",
       "\\item 'ELP1\\_long\\_short'\n",
       "\\end{enumerate*}\n"
      ],
      "text/markdown": [
       "1. 'SFPQ_long_short'\n",
       "2. 'NEFL_long_short'\n",
       "3. 'ELP1_long_short'\n",
       "\n",
       "\n"
      ],
      "text/plain": [
       "[1] \"SFPQ_long_short\" \"NEFL_long_short\" \"ELP1_long_short\""
      ]
     },
     "metadata": {},
     "output_type": "display_data"
    }
   ],
   "source": [
    "unique(apa_qpcr$variable)"
   ]
  },
  {
   "cell_type": "markdown",
   "id": "fbc94346-399b-498a-a49e-37732b45bf87",
   "metadata": {},
   "source": [
    "### RNA-seq DESeq2 count data"
   ]
  },
  {
   "cell_type": "markdown",
   "id": "f6e42fd8-e56d-458c-90cb-6aa76f772825",
   "metadata": {},
   "source": [
    ">from data/Zeng_2023_TDP43-7D-KD-RNA-seq"
   ]
  },
  {
   "cell_type": "code",
   "execution_count": 5,
   "id": "4e304a32-ed06-40e2-ae57-70a1d5036b1d",
   "metadata": {},
   "outputs": [],
   "source": [
    "DESeq2_counts = fread(\"Fig_s3_TDP-43-7D-KD-RNA-seq-DESeq2-gene-normalized-counts.csv\")"
   ]
  },
  {
   "cell_type": "code",
   "execution_count": 6,
   "id": "d6c0f426-6872-4569-a6df-61ec501ddd47",
   "metadata": {},
   "outputs": [],
   "source": [
    "DESeq2_selected_targets = DESeq2_counts[gene_name %in% c(\"NEFL\",\"TMEM106B\",\"ELP1\")]"
   ]
  },
  {
   "cell_type": "code",
   "execution_count": 7,
   "id": "325c072e-a748-4aac-9bc7-fdd6ee234366",
   "metadata": {},
   "outputs": [],
   "source": [
    "DESeq2_selected_targets = melt(DESeq2_selected_targets[, -c(1)], id.vars = \"gene_name\")"
   ]
  },
  {
   "cell_type": "code",
   "execution_count": 8,
   "id": "674130d3-e18a-4944-b712-d32689c4c5a7",
   "metadata": {},
   "outputs": [],
   "source": [
    "DESeq2_selected_targets[, condition := ifelse(variable %like% \"Scr\", \"Control\", \"TDP-43 KD\")]"
   ]
  },
  {
   "cell_type": "code",
   "execution_count": 11,
   "id": "5b846a69-44cf-438c-bc8e-4ba009fb1578",
   "metadata": {},
   "outputs": [],
   "source": [
    "## make adjusted p value table for plotting\n",
    "DESeq2_rlt = fread(\"Fig_s3_TDP-43-7D-KD-RNA-seq-DESeq2-gene-result-LFC.csv\")"
   ]
  },
  {
   "cell_type": "code",
   "execution_count": 12,
   "id": "76db7497-59aa-412c-a0b0-c14ded850b52",
   "metadata": {},
   "outputs": [],
   "source": [
    "DESeq2_padj = DESeq2_rlt[gene_name %in% c(\"NEFL\",\"TMEM106B\",\"ELP1\"), .(gene_name, padj)]"
   ]
  },
  {
   "cell_type": "code",
   "execution_count": 13,
   "id": "dd03dd7f-e8ae-4d65-8aef-881e3c89bd24",
   "metadata": {},
   "outputs": [],
   "source": [
    "DESeq2_padj[, group1 := \"Control\"]\n",
    "DESeq2_padj[, group2 := \"TDP-43 KD\"]"
   ]
  },
  {
   "cell_type": "code",
   "execution_count": 14,
   "id": "7b7c3aca-a2b3-463b-9e4b-7894337a45f6",
   "metadata": {},
   "outputs": [],
   "source": [
    "setnames(DESeq2_padj, \"padj\", \"p.adj\")"
   ]
  },
  {
   "cell_type": "code",
   "execution_count": 15,
   "id": "dc25d30e-ff29-424f-899c-0d51ca80847a",
   "metadata": {},
   "outputs": [],
   "source": [
    "DESeq2_padj = DESeq2_padj[, .(group1, group2, p.adj, gene_name)]"
   ]
  },
  {
   "cell_type": "markdown",
   "id": "5a428e11-91b6-481f-b227-b92c97d84544",
   "metadata": {},
   "source": [
    "## Fig. S3a, ELP1 APA"
   ]
  },
  {
   "cell_type": "code",
   "execution_count": 16,
   "id": "6b334c0d-f55c-4ae7-94a0-de8a51f5136e",
   "metadata": {},
   "outputs": [
    {
     "name": "stderr",
     "output_type": "stream",
     "text": [
      "\u001b[32m✔\u001b[39m save_plot: saved to \u001b[34m\u001b[34mfig_s3a_TDP43-7D-KD-ELP1-apa-qRT-PCR-plot.pdf\u001b[34m\u001b[39m\n",
      "\n"
     ]
    },
    {
     "data": {
      "image/png": "[encoded data removed]",
      "text/plain": [
       "plot without title"
      ]
     },
     "metadata": {
      "image/png": {
       "height": 420,
       "width": 420
      }
     },
     "output_type": "display_data"
    }
   ],
   "source": [
    "apa_qpcr[variable == \"ELP1_long_short\"] |>\n",
    "    tidyplot(x = Sample, y = value, color = Sample) |>\n",
    "    add_mean_dash(width = 0.5) |>\n",
    "    add_sem_errorbar(width = 0.25) |>\n",
    "    add_data_points_jitter(jitter_width = 0.3, size = 0.5, color = \"gray\") |>\n",
    "    add_test_pvalue(hide_info = TRUE, \n",
    "                    method = \"t_test\",\n",
    "                    method.args = list(alternative = \"less\")) |>\n",
    "    adjust_colors(new_colors = c(\"black\", \"orange\")) |> \n",
    "    remove_x_axis_title() |>\n",
    "    adjust_y_axis(title = \"ELP1 3' UTR: long/total\",\n",
    "                  limits = c(0, 0.7), breaks = c(0, 0.2, 0.4, 0.6)) |>\n",
    "    remove_legend() |>\n",
    "    adjust_size(width = 0.9, height = 1, unit = \"in\") |>\n",
    "    adjust_font(fontsize = 6) |>\n",
    "    save_plot(\"fig_s3a_TDP43-7D-KD-ELP1-apa-qRT-PCR-plot.pdf\", \n",
    "              view_plot = TRUE,\n",
    "              bg = \"transparent\",\n",
    "              dpi = 300)"
   ]
  },
  {
   "cell_type": "markdown",
   "id": "64c3eb3f-674b-46dc-9ad7-af402c9b8bbe",
   "metadata": {},
   "source": [
    "## Fig. S3b, ELP1 targeted APA across cell lines"
   ]
  },
  {
   "cell_type": "code",
   "execution_count": 17,
   "id": "05ab7209-2600-48ac-8ee0-d2ef0669cf43",
   "metadata": {},
   "outputs": [],
   "source": [
    "elp1_apa = fread(\"fig_s3b_ELP1_APA_across_samples.csv\")"
   ]
  },
  {
   "cell_type": "code",
   "execution_count": 18,
   "id": "e7f2afdd-0bcf-481b-999b-e6cdd20a4df3",
   "metadata": {},
   "outputs": [
    {
     "data": {
      "text/html": [
       "<style>\n",
       ".list-inline {list-style: none; margin:0; padding: 0}\n",
       ".list-inline>li {display: inline-block}\n",
       ".list-inline>li:not(:last-child)::after {content: \"\\00b7\"; padding: 0 .5ex}\n",
       "</style>\n",
       "<ol class=list-inline><li>'positive'</li><li>'negative'</li><li>'Scramble'</li><li>'TDP43KD'</li><li>'TDP43WT'</li><li>'TDP43K263E'</li><li>'scramble'</li><li>'KD'</li><li>'control'</li></ol>\n"
      ],
      "text/latex": [
       "\\begin{enumerate*}\n",
       "\\item 'positive'\n",
       "\\item 'negative'\n",
       "\\item 'Scramble'\n",
       "\\item 'TDP43KD'\n",
       "\\item 'TDP43WT'\n",
       "\\item 'TDP43K263E'\n",
       "\\item 'scramble'\n",
       "\\item 'KD'\n",
       "\\item 'control'\n",
       "\\end{enumerate*}\n"
      ],
      "text/markdown": [
       "1. 'positive'\n",
       "2. 'negative'\n",
       "3. 'Scramble'\n",
       "4. 'TDP43KD'\n",
       "5. 'TDP43WT'\n",
       "6. 'TDP43K263E'\n",
       "7. 'scramble'\n",
       "8. 'KD'\n",
       "9. 'control'\n",
       "\n",
       "\n"
      ],
      "text/plain": [
       "[1] \"positive\"   \"negative\"   \"Scramble\"   \"TDP43KD\"    \"TDP43WT\"   \n",
       "[6] \"TDP43K263E\" \"scramble\"   \"KD\"         \"control\"   "
      ]
     },
     "metadata": {},
     "output_type": "display_data"
    }
   ],
   "source": [
    "unique(elp1_apa$condition)"
   ]
  },
  {
   "cell_type": "code",
   "execution_count": 19,
   "id": "7166f018-35a8-406d-8c2c-c4ca2bf24a9d",
   "metadata": {},
   "outputs": [],
   "source": [
    "elp1_apa[condition %in% c(\"Scramble\", \"scramble\", \"control\", \"positive\", \"TDP43WT\"), condition := \"Control\"]\n",
    "elp1_apa[condition %in% c(\"TDP43KD\", \"KD\", \"TDP43KD\", \"negative\", \"TDP43K263E\"), condition := \"Mutant\"]"
   ]
  },
  {
   "cell_type": "code",
   "execution_count": 20,
   "id": "45806499-b31c-4ccf-aaab-74f4e96b98a1",
   "metadata": {},
   "outputs": [
    {
     "data": {
      "text/html": [
       "<style>\n",
       ".list-inline {list-style: none; margin:0; padding: 0}\n",
       ".list-inline>li {display: inline-block}\n",
       ".list-inline>li:not(:last-child)::after {content: \"\\00b7\"; padding: 0 .5ex}\n",
       "</style>\n",
       "<ol class=list-inline><li>'Control'</li><li>'Mutant'</li></ol>\n"
      ],
      "text/latex": [
       "\\begin{enumerate*}\n",
       "\\item 'Control'\n",
       "\\item 'Mutant'\n",
       "\\end{enumerate*}\n"
      ],
      "text/markdown": [
       "1. 'Control'\n",
       "2. 'Mutant'\n",
       "\n",
       "\n"
      ],
      "text/plain": [
       "[1] \"Control\" \"Mutant\" "
      ]
     },
     "metadata": {},
     "output_type": "display_data"
    }
   ],
   "source": [
    "unique(elp1_apa$condition)"
   ]
  },
  {
   "cell_type": "code",
   "execution_count": 21,
   "id": "f529044d-12ba-4425-84ec-c6bff4b5d0b2",
   "metadata": {},
   "outputs": [],
   "source": [
    "elp1_apa$condition = factor(elp1_apa$condition, levels = c(\"Control\", \"Mutant\"))"
   ]
  },
  {
   "cell_type": "code",
   "execution_count": 22,
   "id": "e4d774f9-928d-4d61-972c-8163cb6b4b98",
   "metadata": {},
   "outputs": [
    {
     "data": {
      "text/html": [
       "<style>\n",
       ".list-inline {list-style: none; margin:0; padding: 0}\n",
       ".list-inline>li {display: inline-block}\n",
       ".list-inline>li:not(:last-child)::after {content: \"\\00b7\"; padding: 0 .5ex}\n",
       "</style>\n",
       "<ol class=list-inline><li>'Liu_2019'</li><li>'Inhouse'</li><li>'Imaizumi'</li><li>'Klim'</li><li>'sh-sy5y'</li><li>'sknz'</li></ol>\n"
      ],
      "text/latex": [
       "\\begin{enumerate*}\n",
       "\\item 'Liu\\_2019'\n",
       "\\item 'Inhouse'\n",
       "\\item 'Imaizumi'\n",
       "\\item 'Klim'\n",
       "\\item 'sh-sy5y'\n",
       "\\item 'sknz'\n",
       "\\end{enumerate*}\n"
      ],
      "text/markdown": [
       "1. 'Liu_2019'\n",
       "2. 'Inhouse'\n",
       "3. 'Imaizumi'\n",
       "4. 'Klim'\n",
       "5. 'sh-sy5y'\n",
       "6. 'sknz'\n",
       "\n",
       "\n"
      ],
      "text/plain": [
       "[1] \"Liu_2019\" \"Inhouse\"  \"Imaizumi\" \"Klim\"     \"sh-sy5y\"  \"sknz\"    "
      ]
     },
     "metadata": {},
     "output_type": "display_data"
    }
   ],
   "source": [
    "unique(elp1_apa$study)"
   ]
  },
  {
   "cell_type": "code",
   "execution_count": 23,
   "id": "9382cd57-5739-4560-8493-e17984b408b8",
   "metadata": {},
   "outputs": [],
   "source": [
    "elp1_apa$study = factor(elp1_apa$study, levels = c(\"Liu_2019\", \"Inhouse\", \"Imaizumi\", \"Klim\", \"sh-sy5y\", \"sknz\"))"
   ]
  },
  {
   "cell_type": "code",
   "execution_count": 24,
   "id": "efca5516-02a7-4066-bd51-08d903aa384d",
   "metadata": {},
   "outputs": [],
   "source": [
    "elp1_apa_stat_test <- elp1_apa %>%\n",
    "  group_by(study) %>%\n",
    "  rstatix::t_test(normalized_value ~ condition, alternative = \"less\") %>%\n",
    "  rstatix::add_significance() %>% \n",
    "  rstatix::add_xy_position(x = \"condition\")"
   ]
  },
  {
   "cell_type": "code",
   "execution_count": 25,
   "id": "70510e1c-7304-42d5-bdc6-f4c16febb1c5",
   "metadata": {},
   "outputs": [
    {
     "data": {
      "text/html": [
       "<style>\n",
       ".list-inline {list-style: none; margin:0; padding: 0}\n",
       ".list-inline>li {display: inline-block}\n",
       ".list-inline>li:not(:last-child)::after {content: \"\\00b7\"; padding: 0 .5ex}\n",
       "</style>\n",
       "<ol class=list-inline><li>Liu_2019</li><li>Inhouse</li><li>Imaizumi</li><li>Klim</li><li>sh-sy5y</li><li>sknz</li></ol>\n",
       "\n",
       "<details>\n",
       "\t<summary style=display:list-item;cursor:pointer>\n",
       "\t\t<strong>Levels</strong>:\n",
       "\t</summary>\n",
       "\t<style>\n",
       "\t.list-inline {list-style: none; margin:0; padding: 0}\n",
       "\t.list-inline>li {display: inline-block}\n",
       "\t.list-inline>li:not(:last-child)::after {content: \"\\00b7\"; padding: 0 .5ex}\n",
       "\t</style>\n",
       "\t<ol class=list-inline><li>'Liu_2019'</li><li>'Inhouse'</li><li>'Imaizumi'</li><li>'Klim'</li><li>'sh-sy5y'</li><li>'sknz'</li></ol>\n",
       "</details>"
      ],
      "text/latex": [
       "\\begin{enumerate*}\n",
       "\\item Liu\\_2019\n",
       "\\item Inhouse\n",
       "\\item Imaizumi\n",
       "\\item Klim\n",
       "\\item sh-sy5y\n",
       "\\item sknz\n",
       "\\end{enumerate*}\n",
       "\n",
       "\\emph{Levels}: \\begin{enumerate*}\n",
       "\\item 'Liu\\_2019'\n",
       "\\item 'Inhouse'\n",
       "\\item 'Imaizumi'\n",
       "\\item 'Klim'\n",
       "\\item 'sh-sy5y'\n",
       "\\item 'sknz'\n",
       "\\end{enumerate*}\n"
      ],
      "text/markdown": [
       "1. Liu_2019\n",
       "2. Inhouse\n",
       "3. Imaizumi\n",
       "4. Klim\n",
       "5. sh-sy5y\n",
       "6. sknz\n",
       "\n",
       "\n",
       "\n",
       "**Levels**: 1. 'Liu_2019'\n",
       "2. 'Inhouse'\n",
       "3. 'Imaizumi'\n",
       "4. 'Klim'\n",
       "5. 'sh-sy5y'\n",
       "6. 'sknz'\n",
       "\n",
       "\n"
      ],
      "text/plain": [
       "[1] Liu_2019 Inhouse  Imaizumi Klim     sh-sy5y  sknz    \n",
       "Levels: Liu_2019 Inhouse Imaizumi Klim sh-sy5y sknz"
      ]
     },
     "metadata": {},
     "output_type": "display_data"
    }
   ],
   "source": [
    "unique(elp1_apa$study)"
   ]
  },
  {
   "cell_type": "code",
   "execution_count": 30,
   "id": "c27601fd-1cad-465a-aaf8-0cb00b84f1f6",
   "metadata": {},
   "outputs": [],
   "source": [
    "elp_apa_facet_label <- c(\n",
    "  Liu_2019 = \"Liu (FTD brain)\",\n",
    "  Inhouse  = \"In-house (iNeuron)\",\n",
    "  Imaizumi = \"IMaizumi (iNeuron)\",\n",
    "  Klim     = \"Klim (iMN)\",\n",
    "  `sh-sy5y` = \"Brown (SH-SY5Y)\",\n",
    "  sknz     = \"Brown (SKNZ)\"\n",
    ")"
   ]
  },
  {
   "cell_type": "code",
   "execution_count": 31,
   "id": "bc63d1d7-856f-4bda-a95f-1a32a28ca08f",
   "metadata": {},
   "outputs": [],
   "source": [
    "fig_s3b = ggplot(elp1_apa, aes(condition, normalized_value, color = condition)) + \n",
    "    geom_jitter(width = 0.3, size = 0.2, show.legend = F, color = \"gray\") + \n",
    "    stat_summary(fun.data = \"mean_se\",\n",
    "                 geom = \"errorbar\",\n",
    "                 linewidth = 0.25,\n",
    "                 width = 0.3,\n",
    "                 show.legend = F) +\n",
    "    stat_summary(fun = mean,\n",
    "                 fun.min = mean,\n",
    "                 fun.max = mean,\n",
    "                 geom = \"errorbar\",\n",
    "                 linewidth = 0.25,\n",
    "                 width = 0.5,\n",
    "                 show.legend = F) +\n",
    "    facet_wrap(~study, nrow = 1, scales = c(\"free\"), \n",
    "               labeller = as_labeller(elp_apa_facet_label)) +\n",
    "    stat_pvalue_manual(elp1_apa_stat_test, label = \"p\", size = 7/.pt) +\n",
    "    #stat_compare_means(label = \"p.signif\", size = 4, method = \"t.test\", method.args = list(alternative = \"greater\"), show.legend = F) +\n",
    "    scale_x_discrete(name = NULL) +\n",
    "    scale_y_continuous(name = \"Normalized dPUR\") +\n",
    "    scale_color_manual(values = c(\"black\",\"orange\")) +\n",
    "    theme_classic(base_size = 7) + \n",
    "    theme(strip.background = element_blank())"
   ]
  },
  {
   "cell_type": "code",
   "execution_count": 32,
   "id": "6cc31f32-3450-469a-9cc5-9ea6ea7de7c5",
   "metadata": {},
   "outputs": [
    {
     "data": {
      "image/png": "[encoded data removed]",
      "text/plain": [
       "plot without title"
      ]
     },
     "metadata": {
      "image/png": {
       "height": 420,
       "width": 420
      }
     },
     "output_type": "display_data"
    }
   ],
   "source": [
    "fig_s3b"
   ]
  },
  {
   "cell_type": "code",
   "execution_count": 33,
   "id": "01011901-2cc2-44c9-9954-190f3a014955",
   "metadata": {},
   "outputs": [],
   "source": [
    "## further formatted in illustrator for visualization and labeling purpose only\n",
    "ggsave(filename = \"fig_s3b_elp1_apa_across_samples_plot.pdf\",fig_s3b, width = 5, height = 1, units = \"in\")"
   ]
  },
  {
   "cell_type": "markdown",
   "id": "a3f703b5-d4b0-4a83-9477-11262976ae7c",
   "metadata": {},
   "source": [
    "## Fig. S3c, ELP1 RNA levels from RNA-seq"
   ]
  },
  {
   "cell_type": "code",
   "execution_count": 34,
   "id": "5f50b1fb-0ffa-47a9-8fbd-f45cd211860b",
   "metadata": {},
   "outputs": [],
   "source": [
    "ELP1_padj = DESeq2_padj[gene_name == \"ELP1\"]\n",
    "ELP1_padj[, y.position := max(DESeq2_selected_targets[gene_name == \"ELP1\"]$value)*1.05]"
   ]
  },
  {
   "cell_type": "code",
   "execution_count": 35,
   "id": "3510555f-887e-464e-9c60-fd1cfb2d7dd1",
   "metadata": {},
   "outputs": [],
   "source": [
    "fig_s3c = ggplot(DESeq2_selected_targets[gene_name == \"ELP1\"], aes(condition, value, color = condition)) + \n",
    "    geom_jitter(width = 0.3, size = 0.2, show.legend = F, color = \"gray\") + \n",
    "    stat_summary(fun.data = \"mean_se\",\n",
    "                 geom = \"errorbar\",\n",
    "                 linewidth = 0.25,\n",
    "                 width = 0.3,\n",
    "                 show.legend = F) +\n",
    "    stat_summary(fun = mean,\n",
    "                 fun.min = mean,\n",
    "                 fun.max = mean,\n",
    "                 geom = \"errorbar\",\n",
    "                 linewidth = 0.25,\n",
    "                 width = 0.5,\n",
    "                 show.legend = F) +\n",
    "    ggpubr::stat_pvalue_manual(ELP1_padj, label = \"p.adj\", size = 7/.pt) +\n",
    "    scale_x_discrete(name = NULL) +\n",
    "    scale_y_continuous(name = \"ELP1 RNA level\\n(TPM, x1,000)\", \n",
    "                       limits = c(0, 12000), \n",
    "                       labels = scales::label_number(scale = 1/1000)) +\n",
    "    scale_color_manual(values = c(\"black\",\"orange\", \"black\",\"orange\")) +\n",
    "    theme_classic(base_size = 7)"
   ]
  },
  {
   "cell_type": "code",
   "execution_count": 36,
   "id": "b8d363e1-637c-47ae-b47c-e884a42c4dcb",
   "metadata": {},
   "outputs": [
    {
     "data": {
      "image/png": "[encoded data removed]",
      "text/plain": [
       "plot without title"
      ]
     },
     "metadata": {
      "image/png": {
       "height": 420,
       "width": 420
      }
     },
     "output_type": "display_data"
    }
   ],
   "source": [
    "fig_s3c"
   ]
  },
  {
   "cell_type": "code",
   "execution_count": 37,
   "id": "17d219b8-ad84-4dc3-9560-0418778f73df",
   "metadata": {},
   "outputs": [],
   "source": [
    "ggsave(fig_s3c, \n",
    "       filename = \"fig_s3c_TDP43-7D-KD-ELP1-RNA-level-plot.pdf\", \n",
    "       width = 1.4,\n",
    "       height = 1.25,\n",
    "       units = \"in\",\n",
    "       bg = \"transparent\",\n",
    "       dpi = 300)"
   ]
  },
  {
   "cell_type": "markdown",
   "id": "19b47cf6-2d11-4ba2-9263-17d9d0a9a083",
   "metadata": {},
   "source": [
    "## Fig. S3d, ELP3 WB quantitation"
   ]
  },
  {
   "cell_type": "code",
   "execution_count": 38,
   "id": "a6cb3abc-7a73-4eff-8b81-7f4c938f03f0",
   "metadata": {},
   "outputs": [],
   "source": [
    "ELP3_WB = fread(\"Fig_s3d_TDP43-7d-KD_ELP3-WB-quantitation.csv\")"
   ]
  },
  {
   "cell_type": "code",
   "execution_count": 40,
   "id": "5da13514-06e6-411d-8295-9b6a3d0a92b4",
   "metadata": {},
   "outputs": [
    {
     "name": "stderr",
     "output_type": "stream",
     "text": [
      "\u001b[32m✔\u001b[39m save_plot: saved to \u001b[34m\u001b[34mfig_s3d_TDP43-7D-KD-ELP3-WB-quantitation-plot.pdf\u001b[34m\u001b[39m\n",
      "\n"
     ]
    },
    {
     "data": {
      "image/png": "[encoded data removed]",
      "text/plain": [
       "plot without title"
      ]
     },
     "metadata": {
      "image/png": {
       "height": 420,
       "width": 420
      }
     },
     "output_type": "display_data"
    }
   ],
   "source": [
    "ELP3_WB |>\n",
    "    tidyplot(x = Sample, y = normalized_ratio, color = Sample) |>\n",
    "    add_data_points_jitter(jitter_width = 0.2, size = 0.5, color = \"gray\") |>\n",
    "    add_mean_dash(width = 0.5) |>\n",
    "    add_sem_errorbar(width = 0.25) |>\n",
    "    add_test_pvalue(hide_info = TRUE) |>\n",
    "    remove_x_axis_title() |>\n",
    "    adjust_y_axis(title = \"Normalized ratio\\n(TDP-43/GAPDH)\", limits = c(0, 2.25)) |>\n",
    "    adjust_colors(new_colors = c(\"black\", \"orange\")) |> \n",
    "    remove_legend() |>\n",
    "    adjust_size(width = 0.9, height = 0.75, unit = \"in\") |>\n",
    "    adjust_font(fontsize = 6) |>\n",
    "    save_plot(\"fig_s3d_TDP43-7D-KD-ELP3-WB-quantitation-plot.pdf\", \n",
    "              view_plot = TRUE,\n",
    "              bg = \"transparent\",\n",
    "              dpi = 300)"
   ]
  },
  {
   "cell_type": "markdown",
   "id": "e8eba541-fbc1-4cc8-aa05-229f5406fbae",
   "metadata": {},
   "source": [
    "## Fig. S3f, NEFL RNA levels from RNA-seq"
   ]
  },
  {
   "cell_type": "code",
   "execution_count": 41,
   "id": "6716d1e5-f026-43b3-a8e2-4e03a05c4eb3",
   "metadata": {},
   "outputs": [],
   "source": [
    "NEFL_padj = DESeq2_padj[gene_name == \"NEFL\"]\n",
    "NEFL_padj[, y.position := max(DESeq2_selected_targets[gene_name == \"NEFL\"]$value)*1.05]"
   ]
  },
  {
   "cell_type": "code",
   "execution_count": 42,
   "id": "75187032-3c82-4e41-970a-d715e47e8305",
   "metadata": {},
   "outputs": [],
   "source": [
    "fig_s3f = ggplot(DESeq2_selected_targets[gene_name == \"NEFL\"], aes(condition, value, color = condition)) + \n",
    "    geom_jitter(width = 0.3, size = 0.2, show.legend = F, color = \"gray\") + \n",
    "    stat_summary(fun.data = \"mean_se\",\n",
    "                 geom = \"errorbar\",\n",
    "                 linewidth = 0.25,\n",
    "                 width = 0.3,\n",
    "                 show.legend = F) +\n",
    "    stat_summary(fun = mean,\n",
    "                 fun.min = mean,\n",
    "                 fun.max = mean,\n",
    "                 geom = \"errorbar\",\n",
    "                 linewidth = 0.25,\n",
    "                 width = 0.5,\n",
    "                 show.legend = F) +\n",
    "    ggpubr::stat_pvalue_manual(NEFL_padj, label = \"p.adj\", size = 6/.pt) +\n",
    "    scale_x_discrete(name = NULL) +\n",
    "    scale_y_continuous(name = \"NEFL RNA level\\n(TPM, x1,000)\", \n",
    "                       limits = c(0, 700000), \n",
    "                       labels = scales::label_number(scale = 1/1000)) +\n",
    "    scale_color_manual(values = c(\"black\",\"orange\", \"black\",\"orange\")) +\n",
    "    theme_classic(base_size = 7)"
   ]
  },
  {
   "cell_type": "code",
   "execution_count": 43,
   "id": "25a832c1-8b41-425e-9b88-bd0bfc02504f",
   "metadata": {},
   "outputs": [
    {
     "data": {
      "image/png": "[encoded data removed]",
      "text/plain": [
       "plot without title"
      ]
     },
     "metadata": {
      "image/png": {
       "height": 420,
       "width": 420
      }
     },
     "output_type": "display_data"
    }
   ],
   "source": [
    "fig_s3f"
   ]
  },
  {
   "cell_type": "code",
   "execution_count": 44,
   "id": "78cddc70-5b30-40fc-abfe-bb975a5114e2",
   "metadata": {},
   "outputs": [],
   "source": [
    "ggsave(fig_s3f, \n",
    "       filename = \"fig_s3f_TDP43-7D-KD-NEFL-RNA-level-plot.pdf\", \n",
    "       width = 1.4,\n",
    "       height = 1.25,\n",
    "       units = \"in\",\n",
    "       bg = \"transparent\",\n",
    "       dpi = 300)"
   ]
  },
  {
   "cell_type": "markdown",
   "id": "72fe41dc-a299-4897-b686-057461e9dd1d",
   "metadata": {},
   "source": [
    "## Fig. S3g, NEFL APA"
   ]
  },
  {
   "cell_type": "code",
   "execution_count": 45,
   "id": "e64e4d3a-6693-46cc-ae92-a99ca07b35fb",
   "metadata": {},
   "outputs": [
    {
     "name": "stderr",
     "output_type": "stream",
     "text": [
      "\u001b[32m✔\u001b[39m save_plot: saved to \u001b[34m\u001b[34mfig_s3g_TDP43-7D-KD-NEFL-apa-qRT-PCR-plot.pdf\u001b[34m\u001b[39m\n",
      "\n"
     ]
    },
    {
     "data": {
      "image/png": "[encoded data removed]",
      "text/plain": [
       "plot without title"
      ]
     },
     "metadata": {
      "image/png": {
       "height": 420,
       "width": 420
      }
     },
     "output_type": "display_data"
    }
   ],
   "source": [
    "apa_qpcr[variable == \"NEFL_long_short\"] |>\n",
    "    tidyplot(x = Sample, y = value, color = Sample) |>\n",
    "    add_mean_dash(width = 0.5) |>\n",
    "    add_sem_errorbar(width = 0.25) |>\n",
    "    add_data_points_jitter(jitter_width = 0.3, size = 0.5, color = \"gray\") |>\n",
    "    add_test_pvalue(hide_info = TRUE, \n",
    "                       method = \"t_test\",\n",
    "                       method.args = list(alternative = \"less\")) |>\n",
    "    adjust_colors(new_colors = c(\"black\", \"orange\")) |> \n",
    "    remove_x_axis_title() |>\n",
    "    adjust_y_axis(title = \"NEFL 3' UTR: long/total\",\n",
    "                  limits = c(0, 0.8), breaks = c(0, 0.25, 0.5, 0.75)) |>\n",
    "    remove_legend() |>\n",
    "    adjust_size(width = 0.9, height = 1, unit = \"in\") |>\n",
    "    adjust_font(fontsize = 6) |>\n",
    "    save_plot(\"fig_s3g_TDP43-7D-KD-NEFL-apa-qRT-PCR-plot.pdf\", \n",
    "              view_plot = TRUE,\n",
    "              bg = \"transparent\",\n",
    "              dpi = 300)"
   ]
  },
  {
   "cell_type": "markdown",
   "id": "3fe26120-0ca8-4a4e-a613-ca1a9062ba2e",
   "metadata": {},
   "source": [
    "## Fig. S3i, SFPQ APA"
   ]
  },
  {
   "cell_type": "code",
   "execution_count": 46,
   "id": "d38f1f89-c089-43c3-b226-6f1e7baf62e2",
   "metadata": {},
   "outputs": [
    {
     "name": "stderr",
     "output_type": "stream",
     "text": [
      "\u001b[32m✔\u001b[39m save_plot: saved to \u001b[34m\u001b[34mfig_s3i_TDP43-7D-KD-SFPQ-apa-qRT-PCR-plot.pdf\u001b[34m\u001b[39m\n",
      "\n"
     ]
    },
    {
     "data": {
      "image/png": "[encoded data removed]",
      "text/plain": [
       "plot without title"
      ]
     },
     "metadata": {
      "image/png": {
       "height": 420,
       "width": 420
      }
     },
     "output_type": "display_data"
    }
   ],
   "source": [
    "apa_qpcr[variable == \"SFPQ_long_short\"] |>\n",
    "    tidyplot(x = Sample, y = value, color = Sample) |>\n",
    "    add_mean_dash(width = 0.5) |>\n",
    "    add_sem_errorbar(width = 0.25) |>\n",
    "    add_data_points_jitter(jitter_width = 0.3, size = 0.5, color = \"gray\") |>\n",
    "    add_test_pvalue(hide_info = TRUE, \n",
    "                       method = \"t_test\",\n",
    "                       method.args = list(alternative = \"less\")) |>\n",
    "    adjust_colors(new_colors = c(\"black\", \"orange\")) |> \n",
    "    remove_x_axis_title() |>\n",
    "    adjust_y_axis(title = \"SFPQ 3' UTR: long/total\",\n",
    "                  limits = c(0, 0.5), breaks = c(0, 0.25, 0.5)) |>\n",
    "    remove_legend() |>\n",
    "    adjust_size(width = 0.9, height = 1, unit = \"in\") |>\n",
    "    adjust_font(fontsize = 6) |>\n",
    "    save_plot(\"fig_s3i_TDP43-7D-KD-SFPQ-apa-qRT-PCR-plot.pdf\", \n",
    "              view_plot = TRUE,\n",
    "              bg = \"transparent\",\n",
    "              dpi = 300)"
   ]
  },
  {
   "cell_type": "markdown",
   "id": "b52195b4-0d25-46ac-b156-623a196430aa",
   "metadata": {},
   "source": [
    "## Fig. S3j, competition PCR quantitation"
   ]
  },
  {
   "cell_type": "code",
   "execution_count": 47,
   "id": "04d6eee3-c37c-48af-a0e8-d0a1d9d52a05",
   "metadata": {},
   "outputs": [],
   "source": [
    "sfpq_comp_pcr = fread(\"fig_s3j_SFPQ_competition_PCR_quantitation.csv\")"
   ]
  },
  {
   "cell_type": "code",
   "execution_count": 49,
   "id": "409486f3-7792-4b89-bde0-aaeb356ab70a",
   "metadata": {},
   "outputs": [
    {
     "data": {
      "text/html": [
       "<table class=\"dataframe\">\n",
       "<caption>A data.table: 6 × 3</caption>\n",
       "<thead>\n",
       "\t<tr><th scope=col>Sample</th><th scope=col>normalized_ratio</th><th scope=col>replicate</th></tr>\n",
       "\t<tr><th scope=col>&lt;chr&gt;</th><th scope=col>&lt;dbl&gt;</th><th scope=col>&lt;int&gt;</th></tr>\n",
       "</thead>\n",
       "<tbody>\n",
       "\t<tr><td>Control  </td><td>0.1465482</td><td>1</td></tr>\n",
       "\t<tr><td>TDP-43 KD</td><td>0.4300993</td><td>1</td></tr>\n",
       "\t<tr><td>Control  </td><td>0.1664535</td><td>2</td></tr>\n",
       "\t<tr><td>TDP-43 KD</td><td>0.3666615</td><td>2</td></tr>\n",
       "\t<tr><td>Control  </td><td>0.1484448</td><td>3</td></tr>\n",
       "\t<tr><td>TDP-43 KD</td><td>0.3714275</td><td>3</td></tr>\n",
       "</tbody>\n",
       "</table>\n"
      ],
      "text/latex": [
       "A data.table: 6 × 3\n",
       "\\begin{tabular}{lll}\n",
       " Sample & normalized\\_ratio & replicate\\\\\n",
       " <chr> & <dbl> & <int>\\\\\n",
       "\\hline\n",
       "\t Control   & 0.1465482 & 1\\\\\n",
       "\t TDP-43 KD & 0.4300993 & 1\\\\\n",
       "\t Control   & 0.1664535 & 2\\\\\n",
       "\t TDP-43 KD & 0.3666615 & 2\\\\\n",
       "\t Control   & 0.1484448 & 3\\\\\n",
       "\t TDP-43 KD & 0.3714275 & 3\\\\\n",
       "\\end{tabular}\n"
      ],
      "text/markdown": [
       "\n",
       "A data.table: 6 × 3\n",
       "\n",
       "| Sample &lt;chr&gt; | normalized_ratio &lt;dbl&gt; | replicate &lt;int&gt; |\n",
       "|---|---|---|\n",
       "| Control   | 0.1465482 | 1 |\n",
       "| TDP-43 KD | 0.4300993 | 1 |\n",
       "| Control   | 0.1664535 | 2 |\n",
       "| TDP-43 KD | 0.3666615 | 2 |\n",
       "| Control   | 0.1484448 | 3 |\n",
       "| TDP-43 KD | 0.3714275 | 3 |\n",
       "\n"
      ],
      "text/plain": [
       "  Sample    normalized_ratio replicate\n",
       "1 Control   0.1465482        1        \n",
       "2 TDP-43 KD 0.4300993        1        \n",
       "3 Control   0.1664535        2        \n",
       "4 TDP-43 KD 0.3666615        2        \n",
       "5 Control   0.1484448        3        \n",
       "6 TDP-43 KD 0.3714275        3        "
      ]
     },
     "metadata": {},
     "output_type": "display_data"
    }
   ],
   "source": [
    "head(sfpq_comp_pcr)"
   ]
  },
  {
   "cell_type": "code",
   "execution_count": 50,
   "id": "b19649ba-36f7-43f7-aa8f-790a72fa8f7a",
   "metadata": {},
   "outputs": [
    {
     "name": "stderr",
     "output_type": "stream",
     "text": [
      "\u001b[32m✔\u001b[39m save_plot: saved to \u001b[34m\u001b[34mfig_s3j_TDP43-7D-KD-SFPQ-competition-PCR-plot.pdf\u001b[34m\u001b[39m\n",
      "\n"
     ]
    },
    {
     "data": {
      "image/png": "[encoded data removed]",
      "text/plain": [
       "plot without title"
      ]
     },
     "metadata": {
      "image/png": {
       "height": 420,
       "width": 420
      }
     },
     "output_type": "display_data"
    }
   ],
   "source": [
    "sfpq_comp_pcr |>\n",
    "    tidyplot(x = Sample, y = normalized_ratio, color = Sample) |>\n",
    "    add_mean_dash(width = 0.5) |>\n",
    "    add_sem_errorbar(width = 0.25) |>\n",
    "    add_data_points_jitter(jitter_width = 0.3, size = 0.5, color = \"gray\") |>\n",
    "    add_test_pvalue(hide_info = TRUE, \n",
    "                       method = \"t_test\",\n",
    "                       method.args = list(alternative = \"less\")) |>\n",
    "    adjust_colors(new_colors = c(\"black\", \"orange\")) |> \n",
    "    remove_x_axis_title() |>\n",
    "    adjust_y_axis(title = \"Alternative/Canonical\",\n",
    "                  limits = c(0, 0.55), breaks = c(0, 0.25, 0.5)) |>\n",
    "    remove_legend() |>\n",
    "    adjust_size(width = 0.9, height = 0.75, unit = \"in\") |>\n",
    "    adjust_font(fontsize = 6) |>\n",
    "    save_plot(\"fig_s3j_TDP43-7D-KD-SFPQ-competition-PCR-plot.pdf\", \n",
    "              view_plot = TRUE,\n",
    "              bg = \"transparent\",\n",
    "              dpi = 300)"
   ]
  },
  {
   "cell_type": "markdown",
   "id": "873a6db4-bdbc-4b16-a65d-8479eef63dd6",
   "metadata": {},
   "source": [
    "## Fig. S3k, pUFP1 quantitatoin upon 11j treatment"
   ]
  },
  {
   "cell_type": "code",
   "execution_count": 51,
   "id": "bb61754a-7597-4ea2-aa08-188c11b5af23",
   "metadata": {},
   "outputs": [],
   "source": [
    "pUPF1_wb = fread(\"Fig_s3k_11j_pUPF1-WB-quantitation.csv\")"
   ]
  },
  {
   "cell_type": "code",
   "execution_count": 52,
   "id": "844014be-f0ec-40cc-8ea9-e6bbcf84bd4d",
   "metadata": {},
   "outputs": [],
   "source": [
    "pUPF1_wb$group = factor(pUPF1_wb$group, levels = c(\"DMSO\", \"0.01uM\", \"0.05uM\", \"0.1uM\",\"0.5uM\", \"1uM\"))"
   ]
  },
  {
   "cell_type": "code",
   "execution_count": 53,
   "id": "f623ca25-2800-40db-8d61-30bedf79fed5",
   "metadata": {},
   "outputs": [
    {
     "data": {
      "text/html": [
       "<table class=\"dataframe\">\n",
       "<caption>A data.table: 6 × 4</caption>\n",
       "<thead>\n",
       "\t<tr><th scope=col>Sample</th><th scope=col>group</th><th scope=col>ratio</th><th scope=col>normalized_ratio</th></tr>\n",
       "\t<tr><th scope=col>&lt;chr&gt;</th><th scope=col>&lt;fct&gt;</th><th scope=col>&lt;dbl&gt;</th><th scope=col>&lt;dbl&gt;</th></tr>\n",
       "</thead>\n",
       "<tbody>\n",
       "\t<tr><td>DMSO_1 </td><td>DMSO </td><td>4.0246914</td><td>1.09437460</td></tr>\n",
       "\t<tr><td>DMSO_2 </td><td>DMSO </td><td>3.3305439</td><td>0.90562540</td></tr>\n",
       "\t<tr><td>1uM_1  </td><td>1uM  </td><td>0.1555851</td><td>0.04230595</td></tr>\n",
       "\t<tr><td>1uM_2  </td><td>1uM  </td><td>0.1624606</td><td>0.04417549</td></tr>\n",
       "\t<tr><td>0.5uM_1</td><td>0.5uM</td><td>0.1227336</td><td>0.03337313</td></tr>\n",
       "\t<tr><td>0.5uM_2</td><td>0.5uM</td><td>0.1017214</td><td>0.02765960</td></tr>\n",
       "</tbody>\n",
       "</table>\n"
      ],
      "text/latex": [
       "A data.table: 6 × 4\n",
       "\\begin{tabular}{llll}\n",
       " Sample & group & ratio & normalized\\_ratio\\\\\n",
       " <chr> & <fct> & <dbl> & <dbl>\\\\\n",
       "\\hline\n",
       "\t DMSO\\_1  & DMSO  & 4.0246914 & 1.09437460\\\\\n",
       "\t DMSO\\_2  & DMSO  & 3.3305439 & 0.90562540\\\\\n",
       "\t 1uM\\_1   & 1uM   & 0.1555851 & 0.04230595\\\\\n",
       "\t 1uM\\_2   & 1uM   & 0.1624606 & 0.04417549\\\\\n",
       "\t 0.5uM\\_1 & 0.5uM & 0.1227336 & 0.03337313\\\\\n",
       "\t 0.5uM\\_2 & 0.5uM & 0.1017214 & 0.02765960\\\\\n",
       "\\end{tabular}\n"
      ],
      "text/markdown": [
       "\n",
       "A data.table: 6 × 4\n",
       "\n",
       "| Sample &lt;chr&gt; | group &lt;fct&gt; | ratio &lt;dbl&gt; | normalized_ratio &lt;dbl&gt; |\n",
       "|---|---|---|---|\n",
       "| DMSO_1  | DMSO  | 4.0246914 | 1.09437460 |\n",
       "| DMSO_2  | DMSO  | 3.3305439 | 0.90562540 |\n",
       "| 1uM_1   | 1uM   | 0.1555851 | 0.04230595 |\n",
       "| 1uM_2   | 1uM   | 0.1624606 | 0.04417549 |\n",
       "| 0.5uM_1 | 0.5uM | 0.1227336 | 0.03337313 |\n",
       "| 0.5uM_2 | 0.5uM | 0.1017214 | 0.02765960 |\n",
       "\n"
      ],
      "text/plain": [
       "  Sample  group ratio     normalized_ratio\n",
       "1 DMSO_1  DMSO  4.0246914 1.09437460      \n",
       "2 DMSO_2  DMSO  3.3305439 0.90562540      \n",
       "3 1uM_1   1uM   0.1555851 0.04230595      \n",
       "4 1uM_2   1uM   0.1624606 0.04417549      \n",
       "5 0.5uM_1 0.5uM 0.1227336 0.03337313      \n",
       "6 0.5uM_2 0.5uM 0.1017214 0.02765960      "
      ]
     },
     "metadata": {},
     "output_type": "display_data"
    }
   ],
   "source": [
    "head(pUPF1_wb)"
   ]
  },
  {
   "cell_type": "code",
   "execution_count": 54,
   "id": "e29804f6-6bd4-48f1-800a-4dd9ba099dc5",
   "metadata": {},
   "outputs": [],
   "source": [
    "fig_s3k_plot = \n",
    "    ggplot(pUPF1_wb, aes(group, normalized_ratio)) + \n",
    "    geom_jitter(width = 0.3, size = 0.2, show.legend = F, color = \"gray\") + \n",
    "    stat_summary(fun.data = \"mean_se\",\n",
    "                 geom = \"errorbar\",\n",
    "                 linewidth = 0.25,\n",
    "                 width = 0.3,\n",
    "                 show.legend = F) +\n",
    "    stat_summary(fun = mean,\n",
    "                 fun.min = mean,\n",
    "                 fun.max = mean,\n",
    "                 geom = \"errorbar\",\n",
    "                 linewidth = 0.25,\n",
    "                 width = 0.5,\n",
    "                 show.legend = F) +\n",
    "    stat_compare_means(comparisons = list(c(\"DMSO\", \"0.01uM\"), c(\"DMSO\", \"0.05uM\"), c(\"DMSO\", \"0.1uM\"),\n",
    "                                          c(\"DMSO\", \"0.5uM\"), c(\"DMSO\", \"1uM\")),\n",
    "                       aes(label = after_stat(p)),\n",
    "                       method = \"t.test\",\n",
    "                       method.args = list(alternative = \"greater\"),\n",
    "                       size = 7/.pt) +\n",
    "    scale_x_discrete(name = \"11j (µM)\", labels = c(0, 0.01, 0.05, 0.1, 0.5, 1.0)) +\n",
    "    scale_y_continuous(name = \"pUPF1/UPF1\", limits = c(0, 1.8)) +\n",
    "    theme_classic(base_size = 7)"
   ]
  },
  {
   "cell_type": "code",
   "execution_count": 55,
   "id": "0be70903-361b-4049-9061-d66c25198b86",
   "metadata": {},
   "outputs": [
    {
     "data": {
      "image/png": "[encoded data removed]",
      "text/plain": [
       "plot without title"
      ]
     },
     "metadata": {
      "image/png": {
       "height": 420,
       "width": 420
      }
     },
     "output_type": "display_data"
    }
   ],
   "source": [
    "fig_s3k_plot"
   ]
  },
  {
   "cell_type": "code",
   "execution_count": 56,
   "id": "5cde0539-a97f-4e58-8906-49cc8e7836ac",
   "metadata": {},
   "outputs": [],
   "source": [
    "## reformatted and cleaned up in illustrator\n",
    "ggsave(fig_s3k_plot, \n",
    "       filename = \"fig_s3k_pUPF1_11j_wb.pdf\", width = 2, height = 1.5, units = \"in\", bg = \"transparent\", dpi = 300)"
   ]
  },
  {
   "cell_type": "markdown",
   "id": "4c62456d-ae04-4fc3-ad95-21b40ddde37e",
   "metadata": {},
   "source": [
    "## Fig. S3l, RNA stability"
   ]
  },
  {
   "cell_type": "markdown",
   "id": "d3cf33f3-a94d-4d28-99cf-44a809ed1517",
   "metadata": {},
   "source": [
    ">made in prism"
   ]
  },
  {
   "cell_type": "markdown",
   "id": "532c3610-ead4-4786-a147-d8ca95327483",
   "metadata": {},
   "source": [
    "## Fig. S3m, TMEM106B APA"
   ]
  },
  {
   "cell_type": "code",
   "execution_count": 57,
   "id": "75b0631b-778d-40da-b41b-fb1113907f4c",
   "metadata": {},
   "outputs": [],
   "source": [
    "tmem106b_apa = fread(\"Fig_s3m_TDP43-KD_TMEM106B_apa_qRT-PCR_quantitation.csv\")"
   ]
  },
  {
   "cell_type": "code",
   "execution_count": 58,
   "id": "c7b0ec46-daa4-41d0-9f81-61a1f8efe357",
   "metadata": {},
   "outputs": [
    {
     "name": "stderr",
     "output_type": "stream",
     "text": [
      "\u001b[32m✔\u001b[39m save_plot: saved to \u001b[34m\u001b[34mfig_s3m_TDP43-KD-TMEM106B-apa-qRT-PCR-plot.pdf\u001b[34m\u001b[39m\n",
      "\n"
     ]
    },
    {
     "data": {
      "image/png": "[encoded data removed]",
      "text/plain": [
       "plot without title"
      ]
     },
     "metadata": {
      "image/png": {
       "height": 420,
       "width": 420
      }
     },
     "output_type": "display_data"
    }
   ],
   "source": [
    "tmem106b_apa |>\n",
    "    tidyplot(x = Sample, y = value, color = Sample) |>\n",
    "    add_mean_dash(width = 0.5) |>\n",
    "    add_sem_errorbar(width = 0.25) |>\n",
    "    add_data_points_jitter(jitter_width = 0.3, size = 0.5, color = \"gray\") |>\n",
    "    add_test_pvalue(hide_info = TRUE, \n",
    "                       method = \"t_test\",\n",
    "                       method.args = list(alternative = \"less\")) |>\n",
    "    adjust_colors(new_colors = c(\"black\", \"orange\")) |> \n",
    "    remove_x_axis_title() |>\n",
    "    adjust_y_axis(title = \"TMEM106B 3' UTR: long/total\",\n",
    "                  limits = c(0, 0.25), breaks = c(0, 0.1, 0.2)) |>\n",
    "    remove_legend() |>\n",
    "    adjust_size(width = 0.9, height = 1, unit = \"in\") |>\n",
    "    adjust_font(fontsize = 6) |>\n",
    "    save_plot(\"fig_s3m_TDP43-KD-TMEM106B-apa-qRT-PCR-plot.pdf\", \n",
    "              view_plot = TRUE,\n",
    "              bg = \"transparent\",\n",
    "              dpi = 300)"
   ]
  },
  {
   "cell_type": "markdown",
   "id": "5470b1ce-7915-4a06-9f94-19a0a247b4f5",
   "metadata": {},
   "source": [
    "## Fig. S3o, TMEM106B RNA levels from RNA-seq"
   ]
  },
  {
   "cell_type": "code",
   "execution_count": 60,
   "id": "a06d66a6-90a3-4783-84fa-39a412948011",
   "metadata": {},
   "outputs": [],
   "source": [
    "TMEM106B_padj = DESeq2_padj[gene_name == \"TMEM106B\"]\n",
    "TMEM106B_padj[, y.position := max(DESeq2_selected_targets[gene_name == \"TMEM106B\"]$value)*1.05]"
   ]
  },
  {
   "cell_type": "code",
   "execution_count": 61,
   "id": "1bfd87ff-929e-4817-bd3b-da8459ddac99",
   "metadata": {},
   "outputs": [],
   "source": [
    "tmem106b_deg = ggplot(DESeq2_selected_targets[gene_name == \"TMEM106B\"], aes(condition, value, color = condition)) + \n",
    "    geom_jitter(width = 0.3, size = 0.2, show.legend = F, color = \"gray\") + \n",
    "    stat_summary(fun.data = \"mean_se\",\n",
    "                 geom = \"errorbar\",\n",
    "                 linewidth = 0.25,\n",
    "                 width = 0.3,\n",
    "                 show.legend = F) +\n",
    "    stat_summary(fun = mean,\n",
    "                 fun.min = mean,\n",
    "                 fun.max = mean,\n",
    "                 geom = \"errorbar\",\n",
    "                 linewidth = 0.25,\n",
    "                 width = 0.5,\n",
    "                 show.legend = F) +\n",
    "    ggpubr::stat_pvalue_manual(TMEM106B_padj, label = \"p.adj\", size = 5/.pt) +\n",
    "    scale_x_discrete(name = NULL) +\n",
    "    scale_y_continuous(name = \"TMEM106B RNA level\\n(TPM, x1,000)\", \n",
    "                       limits = c(0, 3500), \n",
    "                       labels = scales::label_number(scale = 1/1000)) +\n",
    "    scale_color_manual(values = c(\"black\",\"orange\", \"black\",\"orange\")) +\n",
    "    theme_classic(base_size = 6)"
   ]
  },
  {
   "cell_type": "code",
   "execution_count": 62,
   "id": "aaa49f19-cb0f-4efd-ab7d-eca6d1ea2cdf",
   "metadata": {},
   "outputs": [
    {
     "data": {
      "image/png": "[encoded data removed]",
      "text/plain": [
       "plot without title"
      ]
     },
     "metadata": {
      "image/png": {
       "height": 420,
       "width": 420
      }
     },
     "output_type": "display_data"
    }
   ],
   "source": [
    "tmem106b_deg"
   ]
  },
  {
   "cell_type": "code",
   "execution_count": 63,
   "id": "6f30ff2d-e87a-4201-8333-4ac731a10146",
   "metadata": {},
   "outputs": [],
   "source": [
    "ggsave(tmem106b_deg, \n",
    "       filename = \"fig_s3o_TDP43-7D-KD-TMEM106B-RNA-level-plot.pdf\", \n",
    "       width = 1.4,\n",
    "       height = 1.25,\n",
    "       units = \"in\",\n",
    "       bg = \"transparent\",\n",
    "       dpi = 300)"
   ]
  },
  {
   "cell_type": "markdown",
   "id": "cf60e9ce-8a43-4557-bd4a-14625d942bac",
   "metadata": {},
   "source": [
    "## Fig. S3p, TMEM106B stbility"
   ]
  },
  {
   "cell_type": "markdown",
   "id": "71f7f781-00c4-4974-8782-a2ad30cda6f6",
   "metadata": {},
   "source": [
    "> made in prsim"
   ]
  },
  {
   "cell_type": "markdown",
   "id": "abe4fcb8-0eca-4615-9475-e67acf3cdcbc",
   "metadata": {},
   "source": [
    "## Fig. S3q, luciferase reporter, long 3' UTR RNA levels "
   ]
  },
  {
   "cell_type": "code",
   "execution_count": 65,
   "id": "8bc1457b-7aa5-448c-9f75-9403fd242d55",
   "metadata": {},
   "outputs": [],
   "source": [
    "tmem106b_long_3utr_level = fread(\"Fig_6f_tmem106b_luciferase_RNA_levels.csv\")"
   ]
  },
  {
   "cell_type": "code",
   "execution_count": 66,
   "id": "ab5e7d25-2b92-4fdb-b74a-c55bba9b2f94",
   "metadata": {},
   "outputs": [
    {
     "data": {
      "text/html": [
       "<style>\n",
       ".list-inline {list-style: none; margin:0; padding: 0}\n",
       ".list-inline>li {display: inline-block}\n",
       ".list-inline>li:not(:last-child)::after {content: \"\\00b7\"; padding: 0 .5ex}\n",
       "</style>\n",
       "<ol class=list-inline><li>'Long-mut'</li><li>'No-insert'</li><li>'Short'</li></ol>\n"
      ],
      "text/latex": [
       "\\begin{enumerate*}\n",
       "\\item 'Long-mut'\n",
       "\\item 'No-insert'\n",
       "\\item 'Short'\n",
       "\\end{enumerate*}\n"
      ],
      "text/markdown": [
       "1. 'Long-mut'\n",
       "2. 'No-insert'\n",
       "3. 'Short'\n",
       "\n",
       "\n"
      ],
      "text/plain": [
       "[1] \"Long-mut\"  \"No-insert\" \"Short\"    "
      ]
     },
     "metadata": {},
     "output_type": "display_data"
    }
   ],
   "source": [
    "unique(tmem106b_long_3utr_level$group)"
   ]
  },
  {
   "cell_type": "code",
   "execution_count": 67,
   "id": "c5b41b81-af5f-452a-9beb-ea2a190da018",
   "metadata": {},
   "outputs": [],
   "source": [
    "tmem106b_long_3utr_level$group = factor(tmem106b_long_3utr_level$group, levels = c(\"No-insert\", \"Short\", \"Long-mut\"))"
   ]
  },
  {
   "cell_type": "code",
   "execution_count": 68,
   "id": "3b68c222-eb2a-4c59-b110-d9e99eae6087",
   "metadata": {},
   "outputs": [],
   "source": [
    "#ratio_3utr := 2^(`Cq_mean_Short` - `Cq_mean_Long`)\n",
    "tmem106b_longer_3utr_level_plot = ggplot(tmem106b_long_3utr_level, aes(group, ratio_3utr, color = group)) + \n",
    "    geom_jitter(width = 0.3, size = 0.2, show.legend = F, color = \"gray\") + \n",
    "    stat_summary(fun.data = \"mean_se\",\n",
    "                 geom = \"errorbar\",\n",
    "                 linewidth = 0.25,\n",
    "                 width = 0.3,\n",
    "                 show.legend = F) +\n",
    "    stat_summary(fun = mean,\n",
    "                 fun.min = mean,\n",
    "                 fun.max = mean,\n",
    "                 geom = \"errorbar\",\n",
    "                 linewidth = 0.25,\n",
    "                 width = 0.5,\n",
    "                 show.legend = F) +\n",
    "    stat_compare_means(comparisons = list(c(\"Short\", \"Long-mut\")),\n",
    "                       aes(label = after_stat(p)),\n",
    "                       method = \"t.test\",\n",
    "                       method.args = list(alternative = \"less\"),\n",
    "                       size = 6/.pt) +\n",
    "    scale_x_discrete(name = \"Long 3' UTR level\", labels = c(\"No insert\", \"Short\", \"Long\")) +\n",
    "    scale_y_continuous(name = \"Long/total 3' UTR\", limits = c(0, 1.8)) +\n",
    "    scale_color_manual(values = c(\"gray\", \"black\", \"orange\")) +\n",
    "    theme_classic(base_size = 6)"
   ]
  },
  {
   "cell_type": "code",
   "execution_count": 69,
   "id": "92336db9-bcd1-4e48-bec0-3c6045295560",
   "metadata": {},
   "outputs": [
    {
     "data": {
      "image/png": "[encoded data removed]",
      "text/plain": [
       "plot without title"
      ]
     },
     "metadata": {
      "image/png": {
       "height": 420,
       "width": 420
      }
     },
     "output_type": "display_data"
    }
   ],
   "source": [
    "tmem106b_longer_3utr_level_plot"
   ]
  },
  {
   "cell_type": "code",
   "execution_count": 70,
   "id": "0d25ed6b-2dea-4248-a271-f72996cab1f6",
   "metadata": {},
   "outputs": [],
   "source": [
    "ggsave(\"fig_s3q.pdf\", tmem106b_longer_3utr_level_plot, width = 1.5, height = 1.25, bg = \"transparent\",dpi = 300)"
   ]
  },
  {
   "cell_type": "markdown",
   "id": "641cec08-3dbc-4b3b-81bf-a88d508849cf",
   "metadata": {},
   "source": [
    "## Fig. S3r, TMEM106B o/e WB quantitation"
   ]
  },
  {
   "cell_type": "code",
   "execution_count": 71,
   "id": "d5b9d493-b595-4702-b9f5-e2e5364a70db",
   "metadata": {},
   "outputs": [],
   "source": [
    "tmem106b_oe = fread(\"Fig_s3r_TMEM106B-OE-WB-quantitation.csv\")"
   ]
  },
  {
   "cell_type": "code",
   "execution_count": 72,
   "id": "da57050f-1b1e-4af2-9078-ccdbea370ec3",
   "metadata": {},
   "outputs": [
    {
     "data": {
      "text/html": [
       "<style>\n",
       ".list-inline {list-style: none; margin:0; padding: 0}\n",
       ".list-inline>li {display: inline-block}\n",
       ".list-inline>li:not(:last-child)::after {content: \"\\00b7\"; padding: 0 .5ex}\n",
       "</style>\n",
       "<ol class=list-inline><li>'En-Dimer'</li><li>'Flag-Dimer'</li><li>'Flag-Monomer'</li><li>'TDP-43'</li></ol>\n"
      ],
      "text/latex": [
       "\\begin{enumerate*}\n",
       "\\item 'En-Dimer'\n",
       "\\item 'Flag-Dimer'\n",
       "\\item 'Flag-Monomer'\n",
       "\\item 'TDP-43'\n",
       "\\end{enumerate*}\n"
      ],
      "text/markdown": [
       "1. 'En-Dimer'\n",
       "2. 'Flag-Dimer'\n",
       "3. 'Flag-Monomer'\n",
       "4. 'TDP-43'\n",
       "\n",
       "\n"
      ],
      "text/plain": [
       "[1] \"En-Dimer\"     \"Flag-Dimer\"   \"Flag-Monomer\" \"TDP-43\"      "
      ]
     },
     "metadata": {},
     "output_type": "display_data"
    }
   ],
   "source": [
    "unique(tmem106b_oe$Sample)"
   ]
  },
  {
   "cell_type": "code",
   "execution_count": 73,
   "id": "5a261567-77dd-4a70-b7d3-7f79049683a3",
   "metadata": {},
   "outputs": [],
   "source": [
    "tmem106b_oe$Sample = factor(tmem106b_oe$Sample, levels = c(\"TDP-43\", \"En-Dimer\", \"Flag-Dimer\", \"Flag-Monomer\"))"
   ]
  },
  {
   "cell_type": "code",
   "execution_count": 74,
   "id": "a48db5e4-c34c-49ae-a313-0bf085a0cdbe",
   "metadata": {},
   "outputs": [],
   "source": [
    "tmem106b_oe_stat_test <- tmem106b_oe %>%\n",
    "  group_by(Sample) %>%\n",
    "  rstatix::t_test(normalized_ratio ~ condition, alternative = \"greater\") %>%\n",
    "  rstatix::add_significance() %>% \n",
    "  rstatix::add_xy_position(x = \"condition\")"
   ]
  },
  {
   "cell_type": "code",
   "execution_count": 75,
   "id": "aec8a72e-45f8-46fb-9125-5e7bde38dc72",
   "metadata": {},
   "outputs": [],
   "source": [
    "tmem106b_oe_plot = ggplot(tmem106b_oe, aes(condition, normalized_ratio, color = condition)) + \n",
    "    geom_jitter(width = 0.3, size = 0.2, show.legend = F, color = \"gray\") + \n",
    "    stat_summary(fun.data = \"mean_se\",\n",
    "                 geom = \"errorbar\",\n",
    "                 linewidth = 0.25,\n",
    "                 width = 0.3,\n",
    "                 show.legend = F) +\n",
    "    stat_summary(fun = mean,\n",
    "                 fun.min = mean,\n",
    "                 fun.max = mean,\n",
    "                 geom = \"errorbar\",\n",
    "                 linewidth = 0.25,\n",
    "                 width = 0.5,\n",
    "                 show.legend = F) +\n",
    "    facet_wrap(~Sample, nrow = 1, scales = c(\"free\")) +\n",
    "    stat_pvalue_manual(tmem106b_oe_stat_test, label = \"p\", size = 6/.pt, y.position = rep(1.35, 4)) +\n",
    "    scale_x_discrete(name = NULL) +\n",
    "    scale_y_continuous(name = \"Normalized ratio\", limits = c(0, 1.4)) +\n",
    "    scale_color_manual(values = c(\"black\",\"orange\")) +\n",
    "    theme_classic(base_size = 6) + \n",
    "    theme(strip.background = element_blank())"
   ]
  },
  {
   "cell_type": "code",
   "execution_count": 76,
   "id": "f782ad75-516a-4ef2-8d73-665d4823e685",
   "metadata": {},
   "outputs": [
    {
     "data": {
      "image/png": "[encoded data removed]",
      "text/plain": [
       "plot without title"
      ]
     },
     "metadata": {
      "image/png": {
       "height": 420,
       "width": 420
      }
     },
     "output_type": "display_data"
    }
   ],
   "source": [
    "tmem106b_oe_plot"
   ]
  },
  {
   "cell_type": "code",
   "execution_count": 77,
   "id": "22ae8bac-e757-441a-b803-9e19469e6fd5",
   "metadata": {},
   "outputs": [],
   "source": [
    "## further formatted in illustrator for visualization and labeling purpose only\n",
    "ggsave(tmem106b_oe_plot, filename = \"fig_s3r_TMEM106B-OE_WB_plot.pdf\", height = 1.5, width = 4, units = \"in\")"
   ]
  },
  {
   "cell_type": "code",
   "execution_count": 78,
   "id": "4966fd8b-e580-48bf-b85d-92ead185ced8",
   "metadata": {},
   "outputs": [
    {
     "data": {
      "text/plain": [
       "R version 4.2.0 (2022-04-22)\n",
       "Platform: x86_64-pc-linux-gnu (64-bit)\n",
       "Running under: CentOS Linux 7 (Core)\n",
       "\n",
       "Matrix products: default\n",
       "BLAS/LAPACK: /share/software/user/open/openblas/0.3.10/lib/libopenblas_haswellp-r0.3.10.so\n",
       "\n",
       "locale:\n",
       " [1] LC_CTYPE=en_US.UTF-8       LC_NUMERIC=C              \n",
       " [3] LC_TIME=en_US.UTF-8        LC_COLLATE=en_US.UTF-8    \n",
       " [5] LC_MONETARY=en_US.UTF-8    LC_MESSAGES=en_US.UTF-8   \n",
       " [7] LC_PAPER=en_US.UTF-8       LC_NAME=C                 \n",
       " [9] LC_ADDRESS=C               LC_TELEPHONE=C            \n",
       "[11] LC_MEASUREMENT=en_US.UTF-8 LC_IDENTIFICATION=C       \n",
       "\n",
       "attached base packages:\n",
       "[1] stats     graphics  grDevices utils     datasets  methods   base     \n",
       "\n",
       "other attached packages:\n",
       "[1] Cairo_1.6-2       patchwork_1.2.0   ggpubr_0.6.0      tidyplots_0.2.2  \n",
       "[5] stringr_1.5.1     ggplot2_3.5.0     data.table_1.15.2\n",
       "\n",
       "loaded via a namespace (and not attached):\n",
       " [1] pillar_1.9.0      compiler_4.2.0    base64enc_0.1-3   tools_4.2.0      \n",
       " [5] getPass_0.2-4     digest_0.6.35     uuid_1.2-0        jsonlite_1.8.8   \n",
       " [9] evaluate_0.23     lifecycle_1.0.4   tibble_3.2.1      gtable_0.3.4     \n",
       "[13] pkgconfig_2.0.3   rlang_1.1.3       IRdisplay_1.1     cli_3.6.2        \n",
       "[17] IRkernel_1.3.2    fastmap_1.1.1     repr_1.1.6        withr_3.0.0      \n",
       "[21] dplyr_1.1.4       systemfonts_1.0.6 generics_0.1.3    vctrs_0.6.5      \n",
       "[25] grid_4.2.0        tidyselect_1.2.1  glue_1.7.0        R6_2.5.1         \n",
       "[29] textshaping_0.3.7 rstatix_0.7.2     fansi_1.0.6       carData_3.0-5    \n",
       "[33] pbdZMQ_0.3-11     farver_2.1.1      car_3.1-2         tidyr_1.3.1      \n",
       "[37] purrr_1.0.2       magrittr_2.0.3    backports_1.4.1   scales_1.3.0     \n",
       "[41] htmltools_0.5.7   abind_1.4-5       colorspace_2.1-0  ggsignif_0.6.4   \n",
       "[45] labeling_0.4.3    ragg_1.3.0        utf8_1.2.4        stringi_1.8.3    \n",
       "[49] munsell_0.5.0     broom_1.0.5       crayon_1.5.2     "
      ]
     },
     "metadata": {},
     "output_type": "display_data"
    }
   ],
   "source": [
    "sessionInfo()"
   ]
  }
 ],
 "metadata": {
  "kernelspec": {
   "display_name": "R",
   "language": "R",
   "name": "ir"
  },
  "language_info": {
   "codemirror_mode": "r",
   "file_extension": ".r",
   "mimetype": "text/x-r-source",
   "name": "R",
   "pygments_lexer": "r",
   "version": "4.2.0"
  }
 },
 "nbformat": 4,
 "nbformat_minor": 5
}
